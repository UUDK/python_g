{
 "cells": [
  {
   "cell_type": "markdown",
   "id": "ea7b5136-7b54-42b6-a167-d59dcf2249ba",
   "metadata": {
    "editable": true,
    "slideshow": {
     "slide_type": "slide"
    },
    "tags": []
   },
   "source": [
    "# Python Foundational class\n",
    "\n",
    "## Module 3"
   ]
  },
  {
   "cell_type": "markdown",
   "id": "bc09f9c1-05d9-4d22-8898-082ff5b5c2ed",
   "metadata": {
    "editable": true,
    "slideshow": {
     "slide_type": "slide"
    },
    "tags": []
   },
   "source": [
    "# Python script\n",
    "\n",
    "* Structure of a script\n",
    "* Header lines\n",
    "* Comments\n",
    "* Indention\n",
    "* import"
   ]
  },
  {
   "cell_type": "markdown",
   "id": "e19aa055-d919-4f55-bb83-cfac56f7e62e",
   "metadata": {
    "editable": true,
    "slideshow": {
     "slide_type": "slide"
    },
    "tags": []
   },
   "source": [
    "## Structure of a script\n",
    "\n",
    "A Python script is a simple text file that follow a specific structure:\n",
    "* There may be one or two header lines of meta information\n",
    "* A *docstring* describing the purpose of the script\n",
    "* Imports of modules\n",
    "* A number of class definition (not covered here)\n",
    "* A number of functions\n",
    "* a number of lines using the classes and functions"
   ]
  },
  {
   "attachments": {},
   "cell_type": "markdown",
   "id": "60f53580-9a10-4971-8387-d7bd5ba65433",
   "metadata": {
    "editable": true,
    "jp-MarkdownHeadingCollapsed": true,
    "raw_mimetype": "",
    "slideshow": {
     "slide_type": "slide"
    },
    "tags": []
   },
   "source": [
    "## Example\n",
    "\n",
    "```python\n",
    "#!/usr/bin/env python\n",
    "# -*- encoding: utf-8 -*-\n",
    "\n",
    "\"\"\"This script does this and that ...\"\"\"\n",
    " \n",
    "class ThisClass:\n",
    "    pass\n",
    "\n",
    "def that_func(x, y):\n",
    "    pass\n",
    "\n",
    "obj = ThisClass()\n",
    "result = that_func(23, 800)\n",
    "print(result)\n",
    "```"
   ]
  },
  {
   "attachments": {},
   "cell_type": "markdown",
   "id": "d9054e03-d754-4f89-bfcf-e20dac372c82",
   "metadata": {
    "editable": true,
    "jp-MarkdownHeadingCollapsed": true,
    "slideshow": {
     "slide_type": "slide"
    },
    "tags": []
   },
   "source": [
    "## Header lines\n",
    "\n",
    "There are  two header lines, which both are optional\n",
    "* The **shebang** line begins with `#!` followed by a path to the interpreter or `env` that uses the PATH variable to find a matching interpreter. This is only relevant on Linux/UNIX and MacOS.\n",
    "* The **encoding** signifier that instructs the interpreter which character set or encoding the script file is written in. If the file is written in UTF-8 this line is not necessary.\n",
    "\n",
    "```python\n",
    "#!/usr/bin/env python\n",
    "# -*- encoding: utf-8 -*-\n",
    "```"
   ]
  },
  {
   "cell_type": "markdown",
   "id": "e00fcfbc-5973-4207-bbb5-f64db6c5b2ee",
   "metadata": {
    "editable": true,
    "slideshow": {
     "slide_type": "slide"
    },
    "tags": []
   },
   "source": [
    "## Comments\n",
    "\n",
    "A comment is a part of the script which is disregarded by the interpreter\n",
    "* Comment lines begin with a hashmark (`#`)\n",
    "* A comment can also begin after the code of a code line\n",
    "* Comments can either contain information for a future maintainer, or\n",
    "* It may be a number of code lines that is temporary excluded from execution"
   ]
  },
  {
   "cell_type": "code",
   "execution_count": 1,
   "id": "57874c09-3c9d-4dfe-9501-2251b7ac8995",
   "metadata": {
    "editable": true,
    "slideshow": {
     "slide_type": ""
    },
    "tags": []
   },
   "outputs": [],
   "source": [
    "# This is a comment line\n",
    "a = 5 # The variable a is used for ....\n",
    "\n",
    "# b = 7\n",
    "# print(a, b)"
   ]
  },
  {
   "cell_type": "markdown",
   "id": "4a0ed328-5ba8-4009-ac2a-482b83e22ddc",
   "metadata": {
    "editable": true,
    "slideshow": {
     "slide_type": "slide"
    },
    "tags": []
   },
   "source": [
    "## Indention\n",
    "\n",
    "Python use indention to mark start and end of a block\n",
    "* A control line like `if` or `while` ending with a colon (`:`) must be followed by an indented block\n",
    "* Indention should always be four spaces and not tabs\n",
    "* To mark the end of the block the following line should be indented at the same level as the control line\n",
    "* Take care to get the indentions correct! It is the most common error among Python beginners."
   ]
  },
  {
   "cell_type": "code",
   "execution_count": 2,
   "id": "b464746b-9a96-4d08-9d64-93408d8479be",
   "metadata": {
    "editable": true,
    "slideshow": {
     "slide_type": "slide"
    },
    "tags": []
   },
   "outputs": [
    {
     "name": "stdout",
     "output_type": "stream",
     "text": [
      "Is odd: 1\n",
      "------\n",
      "Is even: 2\n",
      "------\n",
      "Is odd: 3\n",
      "------\n",
      "Is even: 4\n",
      "------\n",
      "Is odd: 5\n",
      "------\n",
      "End!\n"
     ]
    }
   ],
   "source": [
    "for x in range(1, 6):\n",
    "    if x % 2 == 0:\n",
    "        print(\"Is even:\", x)\n",
    "    else:\n",
    "        print(\"Is odd:\", x)\n",
    "    print(\"------\")\n",
    "print(\"End!\")"
   ]
  },
  {
   "cell_type": "markdown",
   "id": "29abb327-88e7-45ac-847b-b93f4f15217c",
   "metadata": {
    "editable": true,
    "slideshow": {
     "slide_type": "slide"
    },
    "tags": []
   },
   "source": [
    "## Labs 3.1\n",
    "\n",
    "What happens when the indention is wrong? Can you fix it?"
   ]
  },
  {
   "cell_type": "code",
   "execution_count": 3,
   "id": "bce862ce-1d91-4041-a8e4-a31d93565844",
   "metadata": {
    "editable": true,
    "slideshow": {
     "slide_type": ""
    },
    "tags": []
   },
   "outputs": [
    {
     "name": "stdout",
     "output_type": "stream",
     "text": [
      "This is number 1\n",
      "This was the last number\n",
      "This is number 2\n",
      "This was the last number\n",
      "This is number 3\n",
      "This was the last number\n",
      "This is number 4\n",
      "This was the last number\n",
      "This is number 5\n",
      "This was the last number\n"
     ]
    }
   ],
   "source": [
    "for x in range(1, 6):\n",
    "    print(\"This is number\", x)\n",
    "    print(\"This was the last number\")"
   ]
  },
  {
   "cell_type": "markdown",
   "id": "627b9f36-ca90-48d2-a569-7b16f02e4dc2",
   "metadata": {
    "editable": true,
    "slideshow": {
     "slide_type": "slide"
    },
    "tags": []
   },
   "source": [
    "## import modules\n",
    "\n",
    "* A module is a Python file with functions and constants for a particular purpose\n",
    "* To use a module it must be imported.\n",
    "* A module has its own namespace"
   ]
  },
  {
   "cell_type": "code",
   "execution_count": 4,
   "id": "5752eb60-8bea-4168-a18f-3e588c9ff9eb",
   "metadata": {
    "editable": true,
    "slideshow": {
     "slide_type": ""
    },
    "tags": []
   },
   "outputs": [
    {
     "name": "stdout",
     "output_type": "stream",
     "text": [
      "2.718281828459045\n",
      "11. September 2001 was a Tuesday\n"
     ]
    }
   ],
   "source": [
    "import math\n",
    "import datetime\n",
    "print(math.e)\n",
    "d = datetime.date(2001, 9, 11)\n",
    "out = d.strftime(\"%d. %B %Y was a %A\")\n",
    "print(out)"
   ]
  },
  {
   "cell_type": "markdown",
   "id": "18b89c1d-3328-4749-9bbe-e09aca4a2396",
   "metadata": {
    "editable": true,
    "slideshow": {
     "slide_type": "slide"
    },
    "tags": []
   },
   "source": [
    "## Labs 3.2\n",
    "\n",
    "Import the module `statistics` and calculate the *mean* and the *distribution* of the list"
   ]
  },
  {
   "cell_type": "code",
   "execution_count": 5,
   "id": "dd7bcc7a-597c-47ae-a9a8-28ed868dc3d3",
   "metadata": {
    "editable": true,
    "slideshow": {
     "slide_type": ""
    },
    "tags": []
   },
   "outputs": [],
   "source": [
    "import statistics\n",
    "L = [3.1, 4.7, 2.8, 3.5, 1.9, 4.2, 3.4, 2.5]\n",
    "# print(statistics.mean(L))\n",
    "# print(statistics.variance(L))"
   ]
  },
  {
   "cell_type": "markdown",
   "id": "3a63f76a-ce8d-4cbe-9718-bc8aadcb8be0",
   "metadata": {
    "editable": true,
    "slideshow": {
     "slide_type": "slide"
    },
    "tags": []
   },
   "source": [
    "# Conditionals\n",
    "\n",
    "* If\n",
    "* Else\n",
    "* Elif\n",
    "* Compound Logic\n",
    "* Nested If Statements"
   ]
  },
  {
   "cell_type": "markdown",
   "id": "d11735d0-e0b0-4287-ab87-12724d37d1f1",
   "metadata": {
    "editable": true,
    "slideshow": {
     "slide_type": "slide"
    },
    "tags": []
   },
   "source": [
    "## If\n",
    "\n",
    "The basic `if` marks a part that only should run if a condition is met\n",
    "* The condition is most likely a comparison between two values\n",
    "* But most types can be evaluated to be true or false.\n",
    "  * For `int` and `float` zero is evaluated to false and all other values to true.\n",
    "  * For `str`, `list`, and `dict` it is false when empty and otherwise true."
   ]
  },
  {
   "cell_type": "code",
   "execution_count": 6,
   "id": "4ba993ae-775a-4de9-8556-74f93ae59524",
   "metadata": {
    "editable": true,
    "slideshow": {
     "slide_type": ""
    },
    "tags": []
   },
   "outputs": [
    {
     "name": "stdout",
     "output_type": "stream",
     "text": [
      "The condition is true\n"
     ]
    }
   ],
   "source": [
    "a = 5\n",
    "b = 7\n",
    "if a < b:\n",
    "    print(\"The condition is true\")"
   ]
  },
  {
   "cell_type": "markdown",
   "id": "20d0c722-a306-404b-938a-33141fd6c36f",
   "metadata": {
    "editable": true,
    "slideshow": {
     "slide_type": "slide"
    },
    "tags": []
   },
   "source": [
    "## Labs 3.3\n",
    "\n",
    "Ask the user for a number and print \"odd\" or \"even\" whatever the number is. (`x % 2` will be 0 if even and 1 if odd)"
   ]
  },
  {
   "cell_type": "code",
   "execution_count": 7,
   "id": "826d68f2-7032-40bb-8734-f4c293c2ff04",
   "metadata": {
    "editable": true,
    "slideshow": {
     "slide_type": ""
    },
    "tags": []
   },
   "outputs": [
    {
     "name": "stdin",
     "output_type": "stream",
     "text": [
      "Number:  13\n"
     ]
    }
   ],
   "source": [
    "answer = input(\"Number: \")\n",
    "number = int(answer)\n",
    "# if the number is even:\n",
    "# print \"even\"\n",
    "# else:\n",
    "# print \"odd\""
   ]
  },
  {
   "cell_type": "markdown",
   "id": "6314e28c-6636-4a6e-b4e2-fe2e27b82817",
   "metadata": {
    "editable": true,
    "slideshow": {
     "slide_type": "slide"
    },
    "tags": []
   },
   "source": [
    "## Else\n",
    "\n",
    "* If none of the conditions are true the `else` part is executed\n",
    "* With an `else`part there is a completeness sine one and only one part of the construct is executed\n",
    "* If no action is needed then the `else` part may be left out."
   ]
  },
  {
   "cell_type": "code",
   "execution_count": 8,
   "id": "6e764907-26c4-4877-87ee-c108a677ca94",
   "metadata": {
    "editable": true,
    "slideshow": {
     "slide_type": ""
    },
    "tags": []
   },
   "outputs": [
    {
     "name": "stdout",
     "output_type": "stream",
     "text": [
      "The condition is NOT met\n"
     ]
    }
   ],
   "source": [
    "a = 5\n",
    "b = 7\n",
    "if a > b:\n",
    "    print(\"The condition is met\")\n",
    "else:\n",
    "    print(\"The condition is NOT met\")"
   ]
  },
  {
   "cell_type": "markdown",
   "id": "1a81c109-1477-433e-81fa-c7a18b6ee63d",
   "metadata": {
    "editable": true,
    "slideshow": {
     "slide_type": "slide"
    },
    "tags": []
   },
   "source": [
    "## Elif\n",
    "\n",
    "* `elif` is a contraction of *else* and *if*\n",
    "* It can be used immediately after `if` as an alternative condition\n",
    "* If the `if` condition is true, the `elif` is skipped\n",
    "* More `elif`s may follow"
   ]
  },
  {
   "cell_type": "code",
   "execution_count": 9,
   "id": "a6d3613f-f7ed-4456-a497-60fcdfdf2650",
   "metadata": {
    "editable": true,
    "slideshow": {
     "slide_type": ""
    },
    "tags": []
   },
   "outputs": [
    {
     "name": "stdout",
     "output_type": "stream",
     "text": [
      "You are a youth\n"
     ]
    }
   ],
   "source": [
    "age = 17\n",
    "if age < 13:\n",
    "    print(\"You are a child\")\n",
    "elif age < 18:\n",
    "    print(\"You are a youth\")\n",
    "elif age < 65:\n",
    "    print(\"You are an adult\")\n",
    "else:\n",
    "    print(\"You are a senior\")"
   ]
  },
  {
   "cell_type": "markdown",
   "id": "6614996f-d086-4898-9c76-82866baf63b7",
   "metadata": {
    "editable": true,
    "slideshow": {
     "slide_type": "slide"
    },
    "tags": []
   },
   "source": [
    "## Labs 3.4\n",
    "\n",
    "Use `if` and `elif` and `else` to print if a number is either dividable by 2, 3, 5, or 7, or it is not dividable by any of them"
   ]
  },
  {
   "cell_type": "code",
   "execution_count": 10,
   "id": "595cd8ed-73d3-4153-8f02-8d0546f73c2f",
   "metadata": {
    "editable": true,
    "slideshow": {
     "slide_type": ""
    },
    "tags": []
   },
   "outputs": [],
   "source": [
    "numbers = [2, 17, 18, 19, 6, 7, 10, 11, 15, 16, 23, 24, 12, 8, 9, 13, 20, 21, 22, 3, 4, 5, 14, 25]\n",
    "# if dividable by 2:\n",
    "# print so\n",
    "# elif dividable by 3:\n",
    "# print so\n",
    "# elif dividable by 5:\n",
    "# print so\n",
    "# elif dividable by 7:\n",
    "# print so\n",
    "# else:\n",
    "# print not dividable"
   ]
  },
  {
   "cell_type": "markdown",
   "id": "eb9aaf3f-12e4-4e4b-b365-fcb83fca3a5e",
   "metadata": {
    "editable": true,
    "slideshow": {
     "slide_type": "slide"
    },
    "tags": []
   },
   "source": [
    "## Compound Logic\n",
    "\n",
    "* Often a condition has to be evaluated in steps to not trigger an error\n",
    "* If a `dict` may contain a key that is associated with a list from which we want the third element:"
   ]
  },
  {
   "cell_type": "code",
   "execution_count": 11,
   "id": "a314accf-dcfc-4d0e-b2dd-d7b14e777604",
   "metadata": {
    "editable": true,
    "slideshow": {
     "slide_type": ""
    },
    "tags": []
   },
   "outputs": [
    {
     "name": "stdout",
     "output_type": "stream",
     "text": [
      "Chuck\n"
     ]
    }
   ],
   "source": [
    "d ={\"children\": [\"Ann\", \"Bobby\", \"Chuck\", \"Dannie\"]}\n",
    "if \"children\" in d and type(d[\"children\"]) == list and len(d[\"children\"]) >= 3:\n",
    "    print(d[\"children\"][2])\n",
    "else:\n",
    "    print(\"Not possible\")"
   ]
  },
  {
   "cell_type": "markdown",
   "id": "c7063a09-3c85-4b6f-aaf3-9501558a5a5b",
   "metadata": {
    "editable": true,
    "slideshow": {
     "slide_type": "slide"
    },
    "tags": []
   },
   "source": [
    "## Labs 3.5\n",
    "\n",
    "A variable x may be a number or a string. If it is a number it must be between 5 and 9, if it is a string it must contain the word \"apple\""
   ]
  },
  {
   "cell_type": "code",
   "execution_count": 12,
   "id": "613aea7e-7351-43aa-8f2e-113c10b48b47",
   "metadata": {
    "editable": true,
    "slideshow": {
     "slide_type": ""
    },
    "tags": []
   },
   "outputs": [],
   "source": [
    "# x = 7\n",
    "# x = \"The apple costs 3.75\"\n",
    "# if type of x is in and ... or type ... and ...\n",
    "#     print(\"Condition met!\")"
   ]
  },
  {
   "cell_type": "markdown",
   "id": "73d78057-c77e-4f4f-ac9b-0390ad7ddf3e",
   "metadata": {
    "editable": true,
    "slideshow": {
     "slide_type": "slide"
    },
    "tags": []
   },
   "source": [
    "## Nested If Statements\n",
    "\n",
    "* If constructs may be nested inside each other:"
   ]
  },
  {
   "cell_type": "code",
   "execution_count": 13,
   "id": "e77c814b-2d51-4daf-803b-f4c6b13b4dc6",
   "metadata": {
    "editable": true,
    "slideshow": {
     "slide_type": ""
    },
    "tags": []
   },
   "outputs": [
    {
     "name": "stdout",
     "output_type": "stream",
     "text": [
      "Girl\n"
     ]
    }
   ],
   "source": [
    "age = 17\n",
    "gender = \"female\"\n",
    "if gender == \"male\":\n",
    "    if age < 18:\n",
    "        print(\"Boy\")\n",
    "    else:\n",
    "        print(\"Man\")\n",
    "elif gender == \"female\":\n",
    "    if age < 18:\n",
    "        print(\"Girl\")\n",
    "    else:\n",
    "        print(\"Woman\")\n",
    "else:\n",
    "    if age < 18:\n",
    "        print(\"Child\")\n",
    "    else:\n",
    "        print(\"Adult\")"
   ]
  },
  {
   "cell_type": "markdown",
   "id": "3071db19-cd87-426c-ad65-b76c53ff389e",
   "metadata": {
    "editable": true,
    "slideshow": {
     "slide_type": "slide"
    },
    "tags": []
   },
   "source": [
    "## Labs 3.6\n",
    "\n",
    "* Coffee may be taken with cream or milk with or without sugar\n",
    "* Tea may be taken with milk or lemon but never both with or without sugar\n",
    "\n",
    "Check if the combinations are valid"
   ]
  },
  {
   "cell_type": "code",
   "execution_count": 14,
   "id": "5e945a7e-5546-4e02-a548-5b0982680b31",
   "metadata": {
    "editable": true,
    "slideshow": {
     "slide_type": ""
    },
    "tags": []
   },
   "outputs": [],
   "source": [
    "cup = [\"coffee\", \"milk\"]\n",
    "# cup = [\"tea\", \"lemon\", \"milk\"]\n",
    "# cup = [\"coffee\", \"cream\", \"lemon\"]\n",
    "# if \"coffee\" in cup:\n",
    "#     if \"lemon\" in cup:\n",
    "#         print(\"Yuck!\")\n",
    "# ..."
   ]
  },
  {
   "cell_type": "markdown",
   "id": "f2027ee6-bc7c-4c62-bfcd-ae229f8f29b0",
   "metadata": {
    "editable": true,
    "slideshow": {
     "slide_type": "slide"
    },
    "tags": []
   },
   "source": [
    "# Loops\n",
    "\n",
    "* For loops with range\n",
    "* For loops with list\n",
    "* For loops with incrementation\n",
    "* While loops"
   ]
  },
  {
   "cell_type": "markdown",
   "id": "96f5e930-f4bc-46ed-addc-b54e5978a168",
   "metadata": {
    "editable": true,
    "slideshow": {
     "slide_type": "slide"
    },
    "tags": []
   },
   "source": [
    "## For loops with range\n",
    "\n",
    "* The `for`/ `in` loop has many applications, but one of the most common is counting\n",
    "* The `range()` function yields numbers within a particular range\n",
    "* The `range()` function with one parameter counts from zero up to (but not including) the parameter\n",
    "* With two parameters it counts from first up to (but not including) the second\n",
    "* With three parameters it counts from first up to second in steps of third"
   ]
  },
  {
   "cell_type": "code",
   "execution_count": 15,
   "id": "a2b400d1-0adc-42ef-b532-958680e1bb42",
   "metadata": {
    "editable": true,
    "slideshow": {
     "slide_type": ""
    },
    "tags": []
   },
   "outputs": [
    {
     "name": "stdout",
     "output_type": "stream",
     "text": [
      "0, 1, 2, 3, 4, 100, 101, 102, 103, 104, 200, 202, 204, 206, 208, \n"
     ]
    }
   ],
   "source": [
    "for x in range(5):\n",
    "    print(x, end=\", \")\n",
    "for y in range(100, 105):\n",
    "    print(y, end=\", \")\n",
    "for z in range(200, 210, 2):\n",
    "    print(z, end=\", \")\n",
    "print()"
   ]
  },
  {
   "cell_type": "markdown",
   "id": "4cfcf431-7b63-4cdb-bf4e-9d1fac3b416a",
   "metadata": {
    "editable": true,
    "slideshow": {
     "slide_type": "slide"
    },
    "tags": []
   },
   "source": [
    "## Labs 3.7\n",
    "\n",
    "print a time table with hours from 1 to 5 (both inclusive) and minutes in 10 minutes interval like\n",
    "\n",
    "```\n",
    "01:00\n",
    "01:10\n",
    "...\n",
    "05:50"
   ]
  },
  {
   "cell_type": "code",
   "execution_count": 16,
   "id": "3c9a1935-c705-423d-8234-1f664802c06c",
   "metadata": {
    "editable": true,
    "slideshow": {
     "slide_type": ""
    },
    "tags": []
   },
   "outputs": [],
   "source": [
    "# for hour in range(...):\n",
    "#     for minute in range(...):\n",
    "#         print(f\"{hour:02d}:{minute:02d}\")"
   ]
  },
  {
   "cell_type": "markdown",
   "id": "f6956239-ee1d-4e3b-9701-65877bc5bdec",
   "metadata": {
    "editable": true,
    "slideshow": {
     "slide_type": "slide"
    },
    "tags": []
   },
   "source": [
    "## For loops with list\n",
    "\n",
    "* Another common use for `for` / `in` loops is walking through a list\n",
    "* The loop variable is bound to each of the elements in the loop"
   ]
  },
  {
   "cell_type": "code",
   "execution_count": 17,
   "id": "a94240ca-3dfa-49a3-a976-3eb04597b67f",
   "metadata": {
    "editable": true,
    "slideshow": {
     "slide_type": ""
    },
    "tags": []
   },
   "outputs": [
    {
     "name": "stdout",
     "output_type": "stream",
     "text": [
      "This is Allan\n",
      "This is Ben\n",
      "This is Charlie\n",
      "It's his birthday today\n",
      "This is Dean\n",
      "This is Eric\n"
     ]
    }
   ],
   "source": [
    "names = [\"Allan\", \"Ben\", \"Charlie\", \"Dean\", \"Eric\"]\n",
    "for name in names:\n",
    "    print(\"This is\", name)\n",
    "    if name == \"Charlie\":\n",
    "        print(\"It's his birthday today\")"
   ]
  },
  {
   "cell_type": "markdown",
   "id": "4e6e17c8-5afe-45c8-9a5e-e6a72d5911f8",
   "metadata": {
    "editable": true,
    "slideshow": {
     "slide_type": "slide"
    },
    "tags": []
   },
   "source": [
    "## Labs 3.8\n",
    "\n",
    "Print the twelve months with three on each line ending in the name of the season:\n",
    "```\n",
    "December, January, Febuary, Winter\n",
    "...\n",
    "``` "
   ]
  },
  {
   "cell_type": "code",
   "execution_count": 18,
   "id": "efd4846c-30a5-4cc3-bac1-f208ed2f7f2d",
   "metadata": {
    "editable": true,
    "slideshow": {
     "slide_type": ""
    },
    "tags": []
   },
   "outputs": [],
   "source": [
    "months = [\"December\", \"January\", \"Febuary\", \"March\", \"April\", \"May\", \n",
    "          \"June\", \"July\", \"August\", \"September\", \"October\", \"November\"]\n",
    "# for m in months:\n",
    "#     print(m, end=\", \")\n",
    "#     if ...:\n",
    "#         print(\"Winter\")\n",
    "# ..."
   ]
  },
  {
   "cell_type": "markdown",
   "id": "bbd586e3-fa03-47f3-99aa-1eb9ca1fa611",
   "metadata": {
    "editable": true,
    "slideshow": {
     "slide_type": "slide"
    },
    "tags": []
   },
   "source": [
    "## For loops with incrementation\n",
    "\n",
    "* Sometimes we want to also know the position of the element in the list\n",
    "* The function `enumerate()` helps here"
   ]
  },
  {
   "cell_type": "code",
   "execution_count": 19,
   "id": "55ee2a22-2eef-4125-b170-ef6a45f145b4",
   "metadata": {},
   "outputs": [
    {
     "name": "stdout",
     "output_type": "stream",
     "text": [
      "This is Allan\n",
      "This is Ben\n",
      "This is Charlie\n",
      "Before Charlie came Ben\n",
      "This is Dean\n",
      "This is Eric\n"
     ]
    }
   ],
   "source": [
    "names = [\"Allan\", \"Ben\", \"Charlie\", \"Dean\", \"Eric\"]\n",
    "for pos, name in enumerate(names):\n",
    "    print(\"This is\", name)\n",
    "    if name == \"Charlie\":\n",
    "        print(\"Before Charlie came\", names[pos - 1])"
   ]
  },
  {
   "cell_type": "markdown",
   "id": "123713b8-ac9f-472b-9f0f-5f3ce8fe9705",
   "metadata": {
    "editable": true,
    "slideshow": {
     "slide_type": "slide"
    },
    "tags": []
   },
   "source": [
    "## Labs 3.9\n",
    "\n",
    "\"Bubble sort\" is the name of a way to sort a set of numbers:\n",
    "* Run through the numbers from left to right, while ... \n",
    "* compare two neighbor numbers and switch them if they are in wrong order\n",
    "* move one step to the right and repeat\n",
    "* start from the left again and do i over\n",
    "* stop when no two neighbors has be swapped"
   ]
  },
  {
   "cell_type": "code",
   "execution_count": 20,
   "id": "1c0a6d87-3ead-4962-b9a6-54b2a0ca77f1",
   "metadata": {
    "editable": true,
    "slideshow": {
     "slide_type": ""
    },
    "tags": []
   },
   "outputs": [],
   "source": [
    "numbers = [2, 17, 18, 19, 6, 7, 10, 11, 15, 16, 23, 24, 12, 8, 9, 13, 20, 21, 22, 3, 4, 5, 14, 25]\n",
    "# swapped = True\n",
    "# while swapped:\n",
    "#     print(numbers)\n",
    "#     swapped = False\n",
    "#     for i, n in enumerate(numbers):\n",
    "#         if i > 0:\n",
    "#             m = numbers[i-1]\n",
    "#             if m > n:\n",
    "#                 place m on position i\n",
    "#                 place n on position i-1\n",
    "#                 swapped = True\n",
    "# print(numbers)"
   ]
  },
  {
   "cell_type": "markdown",
   "id": "b11379c8-cbdb-4244-bd9f-82c3e12d0aee",
   "metadata": {
    "editable": true,
    "slideshow": {
     "slide_type": "slide"
    },
    "tags": []
   },
   "source": [
    "## While loops\n",
    "\n",
    "* The `while` loop is a more general loop\n",
    "* The loop continues to run as long as the condition is true\n",
    "* If the condition never becomes false, the loop will never stop (until the user presses Ctrl+C)"
   ]
  },
  {
   "cell_type": "code",
   "execution_count": 21,
   "id": "ced1b2cb-977c-4fad-919e-163129fbe701",
   "metadata": {
    "editable": true,
    "slideshow": {
     "slide_type": ""
    },
    "tags": []
   },
   "outputs": [
    {
     "name": "stdin",
     "output_type": "stream",
     "text": [
      "Enter a name (or empty for finished) :  Allan\n",
      "Enter a name (or empty for finished) :  Ben\n",
      "Enter a name (or empty for finished) :  Charlie\n",
      "Enter a name (or empty for finished) :  \n"
     ]
    },
    {
     "name": "stdout",
     "output_type": "stream",
     "text": [
      "['Allan', 'Ben', 'Charlie']\n"
     ]
    }
   ],
   "source": [
    "names = []\n",
    "go = True\n",
    "while go:\n",
    "    name = input(\"Enter a name (or empty for finished) : \")\n",
    "    if name == \"\":\n",
    "        go = False\n",
    "    else:\n",
    "        names.append(name)\n",
    "print(names)"
   ]
  },
  {
   "cell_type": "markdown",
   "id": "d54fe03b-f3e1-4f43-b565-5d560f21346b",
   "metadata": {
    "editable": true,
    "slideshow": {
     "slide_type": "slide"
    },
    "tags": []
   },
   "source": [
    "## Labs 3.10\n",
    "\n",
    "Make a guessing game where the user has to guess a number between 1 and 100. Until the user guesses the number he gets the clues \"Too high\" or \"too low\""
   ]
  },
  {
   "cell_type": "code",
   "execution_count": 22,
   "id": "4c8d9718-ab93-42fb-830a-d55ef2a5b457",
   "metadata": {
    "editable": true,
    "slideshow": {
     "slide_type": ""
    },
    "tags": []
   },
   "outputs": [],
   "source": [
    "import random\n",
    "my_number = random.randint(1, 100)\n",
    "is_guessed = False\n",
    "# while the number is not guessed:\n",
    "# ask the user for a guess\n",
    "# cast the answer to an int\n",
    "# if the number is higher print too high\n",
    "# if the number is lower print too low\n",
    "# if the number is equal print guessed and set is_guessed to True"
   ]
  }
 ],
 "metadata": {
  "kernelspec": {
   "display_name": "Python 3 (ipykernel)",
   "language": "python",
   "name": "python3"
  },
  "language_info": {
   "codemirror_mode": {
    "name": "ipython",
    "version": 3
   },
   "file_extension": ".py",
   "mimetype": "text/x-python",
   "name": "python",
   "nbconvert_exporter": "python",
   "pygments_lexer": "ipython3",
   "version": "3.12.1"
  }
 },
 "nbformat": 4,
 "nbformat_minor": 5
}
