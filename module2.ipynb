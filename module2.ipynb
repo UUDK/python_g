{
 "cells": [
  {
   "cell_type": "markdown",
   "id": "65c76196-492f-46b0-aad5-e77d653d4c72",
   "metadata": {
    "editable": true,
    "slideshow": {
     "slide_type": "slide"
    },
    "tags": []
   },
   "source": [
    "# Python Foundational class\n",
    "\n",
    "## Module 2"
   ]
  },
  {
   "cell_type": "markdown",
   "id": "f3870ea8-2c4f-41f6-8958-ab0af61cc3e2",
   "metadata": {
    "editable": true,
    "slideshow": {
     "slide_type": "slide"
    },
    "tags": []
   },
   "source": [
    "# Data Types & Operations\n",
    "\n",
    "* Strings\n",
    "* Integers\n",
    "* Floats\n",
    "* Types and Casting\n",
    "* String Concatenation\n",
    "* Logical Operators (and, or)\n",
    "* Comparison Operators (==, >, <)\n",
    "* Math Operations (+, -, *, /)\n",
    "* Assignment Ops (+=,-=,*=,/= )"
   ]
  },
  {
   "cell_type": "markdown",
   "id": "c79f93e4-5715-4fac-aae3-bea11880857b",
   "metadata": {
    "editable": true,
    "slideshow": {
     "slide_type": "slide"
    },
    "tags": []
   },
   "source": [
    "## Strings\n",
    "\n",
    "* Strings are sequences of characters\n",
    "* A string literal may be quoted by either quotes (`\"`) or apostrophs (`'`)\n",
    "* If a quote or an apostroph is needed inside a string it must be preseeded by a backslash (`\\`)\n",
    "* Backslash is also used for inserting a newline (`\\n`) and a tab (`\\t`)\n",
    "* If a backslash is needed it can be written as two backslashes (`\\\\`)"
   ]
  },
  {
   "cell_type": "code",
   "execution_count": 1,
   "id": "fd1d2c62-f051-4fa9-8437-fd1c5f85815f",
   "metadata": {
    "editable": true,
    "slideshow": {
     "slide_type": ""
    },
    "tags": []
   },
   "outputs": [
    {
     "name": "stdout",
     "output_type": "stream",
     "text": [
      "John \"The Fiddler\" Finley\n",
      "A man's trust is where he places his money's worth\n",
      "John \"The Fiddler\" Finley's girl smacks him flathanded when he's been drinking\n",
      "Life is pain\n",
      "When work's in vain,\n",
      "but sweet and swell\n",
      "when work goes well\n",
      "C:\\tempfolder\\newfile.txt\n"
     ]
    }
   ],
   "source": [
    "name = 'John \"The Fiddler\" Finley'\n",
    "phrase = \"A man's trust is where he places his money's worth\"\n",
    "life = 'John \"The Fiddler\" Finley\\'s girl smacks him flathanded when he\\'s been drinking'\n",
    "saying = \"Life is pain\\nWhen work's in vain,\\nbut sweet and swell\\nwhen work goes well\"\n",
    "path = \"C:\\\\tempfolder\\\\newfile.txt\"\n",
    "print(name)\n",
    "print(phrase)\n",
    "print(life)\n",
    "print(saying)\n",
    "print(path)"
   ]
  },
  {
   "cell_type": "markdown",
   "id": "a1842a3c-5c43-4f62-8c80-f1bd6a60e246",
   "metadata": {
    "editable": true,
    "slideshow": {
     "slide_type": "slide"
    },
    "tags": []
   },
   "source": [
    "## Triple quote strings\n",
    "\n",
    "Python allows for strings consisting of multiple lines. \n",
    "These strings are enclosed in three consecutive quotes or apostrophes:"
   ]
  },
  {
   "cell_type": "code",
   "execution_count": 2,
   "id": "5160a36d-c4d9-4416-b81c-70bb557a28d7",
   "metadata": {
    "editable": true,
    "slideshow": {
     "slide_type": ""
    },
    "tags": []
   },
   "outputs": [
    {
     "name": "stdout",
     "output_type": "stream",
     "text": [
      "Humpty Dumpty sat on a wall\n",
      "Humpty Dumpty had a great fall\n",
      "All the king's horses and all the king's men\n",
      "Couldn't put Humpty together again\n",
      "\n"
     ]
    }
   ],
   "source": [
    "humpty = \"\"\"\\\n",
    "Humpty Dumpty sat on a wall\n",
    "Humpty Dumpty had a great fall\n",
    "All the king's horses and all the king's men\n",
    "Couldn't put Humpty together again\n",
    "\"\"\"\n",
    "print(humpty)"
   ]
  },
  {
   "cell_type": "markdown",
   "id": "aaa20a9b-9be2-435b-89d3-e8d0c9db56bc",
   "metadata": {
    "editable": true,
    "slideshow": {
     "slide_type": ""
    },
    "tags": []
   },
   "source": [
    "The backslash is there to suppress the first newline"
   ]
  },
  {
   "cell_type": "markdown",
   "id": "b15b2c49-10c9-4c32-ae36-db777ac0a968",
   "metadata": {
    "editable": true,
    "slideshow": {
     "slide_type": "slide"
    },
    "tags": []
   },
   "source": [
    "## Format literals\n",
    "\n",
    "When printing line that include variables it is often most convinient to use format literal strings:\n",
    "* A format literal begins with an `f` before the quote or apostroph\n",
    "* Variables are written in curly braces (`{name}`) and the content is inserted when printed\n",
    "* A length may also be specified with a colon: `{name:20}`\n",
    "* When floating point numbers are printed the format is *var:total:decimals*f: `{weight:14.3f}`"
   ]
  },
  {
   "cell_type": "code",
   "execution_count": 3,
   "id": "99355411-00f1-488e-b935-f8eb967e15a3",
   "metadata": {
    "editable": true,
    "slideshow": {
     "slide_type": ""
    },
    "tags": []
   },
   "outputs": [
    {
     "name": "stdout",
     "output_type": "stream",
     "text": [
      "John Miller is from Gladstone. The perimeter is   66.882\n"
     ]
    }
   ],
   "source": [
    "name = \"John Miller\"\n",
    "hometown = \"Gladstone\"\n",
    "perimeter = 21.3 * 3.14\n",
    "print(f\"{name} is from {hometown}. The perimeter is {perimeter:8.3f}\")"
   ]
  },
  {
   "cell_type": "markdown",
   "id": "db9e01ba-fe89-4e93-94c8-fd60f52983ae",
   "metadata": {
    "editable": true,
    "slideshow": {
     "slide_type": "slide"
    },
    "tags": []
   },
   "source": [
    "## Lab 2.1\n",
    "\n",
    "Print all square numbers up to 25^2"
   ]
  },
  {
   "cell_type": "code",
   "execution_count": 4,
   "id": "26a5209f-8055-413e-a2ae-4c335ece5325",
   "metadata": {
    "editable": true,
    "slideshow": {
     "slide_type": ""
    },
    "tags": []
   },
   "outputs": [],
   "source": [
    "# for x in range(1, 25+1):\n",
    "# set sq to x**2\n",
    "# print x an sq with format literal so they align"
   ]
  },
  {
   "cell_type": "markdown",
   "id": "73fcd1ff-f295-4d72-8fee-659844789886",
   "metadata": {
    "editable": true,
    "slideshow": {
     "slide_type": "slide"
    },
    "tags": []
   },
   "source": [
    "## Integers\n",
    "\n",
    "Integers represent positive and negative natural numbers\n",
    "* If convinient numbers may be written with underscores as thousand separators (`1_234_678`)\n",
    "* Python can represent very large integer numbers\n",
    "* Integers may also be written in hexadecimal by prepending `0x` (`0xFFFF_FF70`)"
   ]
  },
  {
   "cell_type": "code",
   "execution_count": 5,
   "id": "c7b0fa66-fe85-4e84-8506-b14b505f0681",
   "metadata": {
    "editable": true,
    "slideshow": {
     "slide_type": ""
    },
    "tags": []
   },
   "outputs": [
    {
     "name": "stdout",
     "output_type": "stream",
     "text": [
      "I can do hex\n"
     ]
    }
   ],
   "source": [
    "amount = 59\n",
    "population = 8_085_000_000\n",
    "dept = -1500\n",
    "if 127 == 0x7F:\n",
    "    print(\"I can do hex\")"
   ]
  },
  {
   "cell_type": "markdown",
   "id": "346586e6-748a-449e-beaa-7bec01ca0629",
   "metadata": {
    "editable": true,
    "slideshow": {
     "slide_type": "slide"
    },
    "tags": []
   },
   "source": [
    "## Lab 2.2\n",
    "\n",
    "What are these hexadecimal number?"
   ]
  },
  {
   "cell_type": "code",
   "execution_count": 6,
   "id": "f327789f-eb4e-44dd-807e-d48251f55a1c",
   "metadata": {
    "editable": true,
    "slideshow": {
     "slide_type": ""
    },
    "tags": []
   },
   "outputs": [],
   "source": [
    "# print(0x62)\n",
    "# print(0xFF)\n",
    "# print(0x400)"
   ]
  },
  {
   "cell_type": "markdown",
   "id": "f2a08c37-0ac3-4942-9bdb-80456940140e",
   "metadata": {
    "editable": true,
    "slideshow": {
     "slide_type": "slide"
    },
    "tags": []
   },
   "source": [
    "## Floats\n",
    "\n",
    "Foating point numbers are a way to represent real numbers\n",
    "* They are suitable for very large or very small numbers\n",
    "* They have a relative precision\n",
    "* Rounding errors can occur, so be careful with comparison for equality\n",
    "* Scientific notation is written with a `e` as `1.23e23` as 1.23 x 10^23"
   ]
  },
  {
   "cell_type": "code",
   "execution_count": 7,
   "id": "6482e139-9b03-4a5b-9016-35dd11edcf74",
   "metadata": {
    "editable": true,
    "slideshow": {
     "slide_type": ""
    },
    "tags": []
   },
   "outputs": [],
   "source": [
    "pi = 3.14159\n",
    "e = 2.71828\n",
    "earth_mass = 5.9722e24\n",
    "planck_length = 1.616_255_02e-35"
   ]
  },
  {
   "cell_type": "markdown",
   "id": "3d9b6f50-51aa-437c-a925-6ea3120edd93",
   "metadata": {
    "editable": true,
    "slideshow": {
     "slide_type": "slide"
    },
    "tags": []
   },
   "source": [
    "## Lab 2.3\n",
    "\n",
    "Why is 0.2 + 0.3 not equal to 0.3"
   ]
  },
  {
   "cell_type": "code",
   "execution_count": 8,
   "id": "6759c1d4-efc3-4a1f-926d-3c90eeab54ca",
   "metadata": {
    "editable": true,
    "slideshow": {
     "slide_type": ""
    },
    "tags": []
   },
   "outputs": [
    {
     "name": "stdout",
     "output_type": "stream",
     "text": [
      "not equal!\n"
     ]
    }
   ],
   "source": [
    "if 0.1 + 0.2 == 0.3:\n",
    "    print(\"equal!\")\n",
    "else:\n",
    "    print(\"not equal!\")\n",
    "# print(0.1 + 0.2 - 0.3)"
   ]
  },
  {
   "cell_type": "markdown",
   "id": "6efd4b69-b799-4924-b03d-1cf8e7e320b5",
   "metadata": {
    "editable": true,
    "jp-MarkdownHeadingCollapsed": true,
    "slideshow": {
     "slide_type": "slide"
    },
    "tags": []
   },
   "source": [
    "## Types\n",
    "\n",
    "Everything in python has a type\n",
    "* `int`, `float`, and `string` are so-called *scalar* types as they only has one piece of information\n",
    "* `list` and `dict` are *compound* types as they can hold many different other pieces of information\n",
    "* The type governs which operations are possible to perform with the data\n",
    "* It is possible to create your own types by defining it as a *class* (but it is not covered here)"
   ]
  },
  {
   "cell_type": "markdown",
   "id": "6609a740-8414-4ce2-a24e-b6df5e6323b0",
   "metadata": {
    "editable": true,
    "slideshow": {
     "slide_type": "slide"
    },
    "tags": []
   },
   "source": [
    "## Casting\n",
    "\n",
    "When we need to use something of one type as if it was\n",
    "another type, we must *convert* or *cast* to a new type:\n",
    "* When a user enters a number through `input()` it must be cast to an `int` or a `float`\n",
    "* If a number must be treated as a string it must be cast to `string`"
   ]
  },
  {
   "cell_type": "code",
   "execution_count": 9,
   "id": "e4ccac48-8640-4694-b442-695b7cf3ec28",
   "metadata": {
    "editable": true,
    "slideshow": {
     "slide_type": ""
    },
    "tags": []
   },
   "outputs": [
    {
     "name": "stdin",
     "output_type": "stream",
     "text": [
      "What is your age:  44\n"
     ]
    },
    {
     "name": "stdout",
     "output_type": "stream",
     "text": [
      "Ten years ago you were 34 years old\n",
      "Your number contains an eight\n"
     ]
    }
   ],
   "source": [
    "answer = input(\"What is your age: \")\n",
    "age = int(answer)\n",
    "younger = age - 10\n",
    "print(f\"Ten years ago you were {younger} years old\")\n",
    "number = 36832\n",
    "if \"8\" in str(number):\n",
    "    print(\"Your number contains an eight\")"
   ]
  },
  {
   "cell_type": "markdown",
   "id": "f9bbc5fc-5c10-492e-b415-880e1bb88287",
   "metadata": {
    "editable": true,
    "slideshow": {
     "slide_type": "slide"
    },
    "tags": []
   },
   "source": [
    "## Lab 2.4\n",
    "\n",
    "What happens when you cast a float to an int?"
   ]
  },
  {
   "cell_type": "code",
   "execution_count": 10,
   "id": "ecab3a1c-2d69-49fe-9fce-87b7465efb85",
   "metadata": {
    "editable": true,
    "slideshow": {
     "slide_type": ""
    },
    "tags": []
   },
   "outputs": [],
   "source": [
    "# print(int(3.98))"
   ]
  },
  {
   "cell_type": "markdown",
   "id": "9e4b0477-09cb-4662-b0dd-70cd3cc06c45",
   "metadata": {
    "editable": true,
    "slideshow": {
     "slide_type": "slide"
    },
    "tags": []
   },
   "source": [
    "## String Concatenation and repetition\n",
    "\n",
    "* Strings can be put together with a plus (`+`)\n",
    "* A string may be repeated a number of times by multiplying with an asterisk (`*`)"
   ]
  },
  {
   "cell_type": "code",
   "execution_count": 11,
   "id": "2d66f98f-2a80-4258-ac7e-cae487ddcea7",
   "metadata": {
    "tags": []
   },
   "outputs": [
    {
     "name": "stdout",
     "output_type": "stream",
     "text": [
      "/---/ /---/ /---/ /---/ /---/ /---/ /---/ /---/ \n",
      "John Miller\n",
      "/---/ /---/ /---/ /---/ /---/ /---/ /---/ /---/ \n"
     ]
    }
   ],
   "source": [
    "firstname = \"John\"\n",
    "lastname = \"Miller\"\n",
    "fullname = firstname + \" \" + lastname\n",
    "separator = \"/---/ \" * 8\n",
    "print(separator)\n",
    "print(fullname)\n",
    "print(separator)"
   ]
  },
  {
   "cell_type": "markdown",
   "id": "0cd4b781-06f8-4b96-b730-df361104b7b7",
   "metadata": {
    "editable": true,
    "slideshow": {
     "slide_type": "slide"
    },
    "tags": []
   },
   "source": [
    "## Useful string functions\n",
    "\n",
    "* `str.upper(\"Abc Def)`, `str.lower(\"\")` converts a string to uppercase or lowercase\n",
    "* `str.split(\"xxx:yyy:zzz\", \":\")` splits a string into a list\n",
    "* `str.join(\":\", [\"xxx\", \"yyy\", \"zzz\"])` joins a list into a string\n",
    "* `str.strip(\" abc \")` strips leading and trailing spaces, tabs, and newlines\n",
    "* `\"abcdef\"[1:4]` gives a slice of the string from position 1 to (but not including) 4 counting from 0"
   ]
  },
  {
   "cell_type": "code",
   "execution_count": 12,
   "id": "814e4c40-8e2c-4326-978d-93e8bec95a55",
   "metadata": {
    "tags": []
   },
   "outputs": [
    {
     "name": "stdout",
     "output_type": "stream",
     "text": [
      "JOHN MILLER\n",
      "/home/john\n",
      "john#*#1001#1001#John Miller#/home/john#/bin/bash\n"
     ]
    }
   ],
   "source": [
    "print(str.upper(\"John Miller\"))\n",
    "line = \"john:*:1001:1001:John Miller:/home/john:/bin/bash\"\n",
    "data = str.split(line, \":\")\n",
    "print(data[5])\n",
    "line2 = str.join(\"#\", data)\n",
    "print(line2)"
   ]
  },
  {
   "cell_type": "markdown",
   "id": "44877665-9e7d-4385-855c-fde23d93c2f2",
   "metadata": {
    "editable": true,
    "slideshow": {
     "slide_type": "slide"
    },
    "tags": []
   },
   "source": [
    "## Lab 2.5\n",
    "\n",
    "Count how many \"is\" there is in this text?"
   ]
  },
  {
   "cell_type": "code",
   "execution_count": 13,
   "id": "22fed4a4-e902-40fe-9989-fb99f9a8e456",
   "metadata": {
    "editable": true,
    "slideshow": {
     "slide_type": ""
    },
    "tags": []
   },
   "outputs": [],
   "source": [
    "text = \"\"\"\\\n",
    "Peter is oldest and Fred is the younger\n",
    "This is the truth but Fred is the stronger\n",
    "It is what it is but what is it not?\n",
    "It is up for debate, for the topic is hot!\n",
    "\"\"\"\n",
    "# words = str.split(text)\n",
    "# print(words)\n",
    "# count = 0\n",
    "# for w in words:\n",
    "#     if w == \"is\":\n",
    "#         count += 1\n",
    "# print(count)"
   ]
  },
  {
   "cell_type": "markdown",
   "id": "f1a235a4-18cc-44f7-90c3-47dc17594689",
   "metadata": {
    "editable": true,
    "slideshow": {
     "slide_type": "slide"
    },
    "tags": []
   },
   "source": [
    "## Comparison Operators\n",
    "\n",
    "There are six comparison operators and a member operator:\n",
    "* Equal (`==`) and not equal (`!=`)\n",
    "* Greater than (`>`) and less than (`<`)\n",
    "* Greater than or equal (`>=`) and less that or equal (`<=`)\n",
    "* Part of (`in`)"
   ]
  },
  {
   "cell_type": "code",
   "execution_count": 14,
   "id": "a34aeb3d-db2d-4745-a5ab-0ac74eb0af47",
   "metadata": {
    "tags": []
   },
   "outputs": [
    {
     "name": "stdout",
     "output_type": "stream",
     "text": [
      "True\n",
      "True\n",
      "True\n",
      "True\n",
      "True\n",
      "True\n"
     ]
    }
   ],
   "source": [
    "a = 5\n",
    "b = 7\n",
    "c = 12\n",
    "print(a + b == c)\n",
    "print(a - b != c)\n",
    "print(a < b)\n",
    "print(c > a)\n",
    "print(c - b <= a)\n",
    "print(a in [2, 4, 5, 8])"
   ]
  },
  {
   "cell_type": "markdown",
   "id": "4652c7cf-d5fb-445f-88f1-d875436747a8",
   "metadata": {
    "editable": true,
    "slideshow": {
     "slide_type": "slide"
    },
    "tags": []
   },
   "source": [
    "## Logical Operators (and, or)\n",
    "\n",
    "If a condition consists of two parts then the two parts must be connected with an `and`or a `not`\n",
    "* If both parts must be true, use the `and`\n",
    "* If just one of them must be true, use the `or`\n",
    "* When the first part determines the answer then the second part is not considered"
   ]
  },
  {
   "cell_type": "code",
   "execution_count": 15,
   "id": "dcd4e826-78d3-4759-9e53-09e01ae52d36",
   "metadata": {
    "tags": []
   },
   "outputs": [
    {
     "name": "stdout",
     "output_type": "stream",
     "text": [
      "Your are given a discount\n",
      "False\n"
     ]
    }
   ],
   "source": [
    "age = 17\n",
    "if age < 18 or age >= 65:\n",
    "    print(\"Your are given a discount\")\n",
    "a = 0\n",
    "b = 2\n",
    "if a != 0 and b/a > 3:\n",
    "    print(\"True\")\n",
    "else:\n",
    "    print(\"False\")"
   ]
  },
  {
   "cell_type": "markdown",
   "id": "71603e26-5f3d-4d83-8256-1af54112eaa5",
   "metadata": {
    "editable": true,
    "slideshow": {
     "slide_type": "slide"
    },
    "tags": []
   },
   "source": [
    "## Lab 2.6\n",
    "\n",
    "Print all numbers between 1 and 100, that either is dividable by 7 (x % 7 == 0) or contains the digit \"7\" (\"7\" in str(x))"
   ]
  },
  {
   "cell_type": "code",
   "execution_count": 16,
   "id": "bef3702c-a679-4540-9338-6af79e58568e",
   "metadata": {
    "editable": true,
    "slideshow": {
     "slide_type": ""
    },
    "tags": []
   },
   "outputs": [],
   "source": [
    "# for all x between 1 and 100:\n",
    "# if x is dividable or contains 7:\n",
    "# print x"
   ]
  },
  {
   "cell_type": "markdown",
   "id": "df9ffc3f-709e-4eec-adc0-4bffa2849c53",
   "metadata": {
    "editable": true,
    "slideshow": {
     "slide_type": "slide"
    },
    "tags": []
   },
   "source": [
    "## Math Operations (+, -, *, /, //, %, **)\n",
    "\n",
    "For math operations Python has the standard calculus operators\n",
    "* Plus (`+`), minus (`-`), multiplication (`*`), and division (`/` or `//`)\n",
    "* `/` will always give a floating point result, `//` will give an integer rounded down.\n",
    "* `%` gives the remainer (modulo) of the integer division\n",
    "* Power is written as `**`"
   ]
  },
  {
   "cell_type": "code",
   "execution_count": 17,
   "id": "939be84e-c36a-4acb-b880-b15faf754475",
   "metadata": {
    "tags": []
   },
   "outputs": [
    {
     "name": "stdout",
     "output_type": "stream",
     "text": [
      "5 6 12\n",
      "5.666666666666667 5 2\n",
      "81\n"
     ]
    }
   ],
   "source": [
    "print(2 + 3, 8 - 2, 4 * 3)\n",
    "print(17 / 3, 17 // 3, 17 % 3)\n",
    "print(3 ** 4)"
   ]
  },
  {
   "cell_type": "markdown",
   "id": "d234e3da-7636-4598-9197-34afd64db090",
   "metadata": {
    "editable": true,
    "slideshow": {
     "slide_type": "slide"
    },
    "tags": []
   },
   "source": [
    "## Assignment Ops (+=, -=, *=, /=)\n",
    "\n",
    "Besdes the assignment operator (`=`) each calculus operator can be combined"
   ]
  },
  {
   "cell_type": "code",
   "execution_count": 18,
   "id": "2a17698d-2928-4fc5-8ec2-29e4a420f169",
   "metadata": {
    "tags": []
   },
   "outputs": [
    {
     "name": "stdout",
     "output_type": "stream",
     "text": [
      "1 18 1060.0\n"
     ]
    }
   ],
   "source": [
    "i = 0\n",
    "n = 20\n",
    "deposit = 1000.0\n",
    "i += 1 # increments i with 1\n",
    "n -= 2 # decrement n with 2\n",
    "deposit *= 1.06 # increase the deposit with 6%\n",
    "print(i, n, deposit)"
   ]
  },
  {
   "cell_type": "markdown",
   "id": "858d3218-c6f2-46bd-9859-7490e0fcf99f",
   "metadata": {
    "editable": true,
    "slideshow": {
     "slide_type": "slide"
    },
    "tags": []
   },
   "source": [
    "## Lab 2.7\n",
    "\n",
    "What is the area of the sum of the squares 3^2, 4^2, 5^2, and the square triangle with the sides 3, 4, and 5?"
   ]
  },
  {
   "cell_type": "code",
   "execution_count": 19,
   "id": "5cbd00aa-0d5a-46ea-b605-cc7a37121d92",
   "metadata": {
    "editable": true,
    "slideshow": {
     "slide_type": ""
    },
    "tags": []
   },
   "outputs": [],
   "source": [
    "# a = 3 squared\n",
    "# b = 4 squared\n",
    "# c = 5 squared\n",
    "# t = half of 3 by 4\n",
    "# print the sum of all 4 numbers"
   ]
  },
  {
   "cell_type": "markdown",
   "id": "eecdd211-1c00-4cc5-8cce-5f19dd9730cb",
   "metadata": {
    "editable": true,
    "slideshow": {
     "slide_type": "slide"
    },
    "tags": []
   },
   "source": [
    "# Variables\n",
    "\n",
    "* Definition of a Variable\n",
    "* Naming conventions\n",
    "* Dot Notation\n",
    "* Use as parameters"
   ]
  },
  {
   "cell_type": "markdown",
   "id": "60f6d9dc-f298-405f-8690-ca5cd6dba2c4",
   "metadata": {
    "editable": true,
    "slideshow": {
     "slide_type": "slide"
    },
    "tags": []
   },
   "source": [
    "## Definition of a Variable\n",
    "\n",
    "* A variable is a name in table that connects to an object (piece of information)\n",
    "* The table is a *symbol* table, and it represents a *namespace*\n",
    "* The most important namespace is the global namespace, the place in which all variables we have seen by now resides.\n",
    "* Besides that all functions have their own namespace, and so do all modules\n",
    "* A variable must be assigned before it is used"
   ]
  },
  {
   "cell_type": "code",
   "execution_count": 20,
   "id": "bdfb7c66-a169-403a-a06a-ccf63a87e6f7",
   "metadata": {
    "tags": []
   },
   "outputs": [
    {
     "name": "stdout",
     "output_type": "stream",
     "text": [
      "5\n"
     ]
    }
   ],
   "source": [
    "a = 5\n",
    "print(globals()['a'])"
   ]
  },
  {
   "cell_type": "markdown",
   "id": "f4511ef2-2f4f-47af-8a65-cb70cba7a6a6",
   "metadata": {
    "editable": true,
    "slideshow": {
     "slide_type": "slide"
    },
    "tags": []
   },
   "source": [
    "## Naming conventions\n",
    "\n",
    "* A variable can consist of letters, digits, and underscore\n",
    "* A variable cannot begin with a digit\n",
    "* Names are case sensitive\n",
    "\n",
    "These conventions apply:\n",
    "* Variables should be written in lowercase (`fullname`), except ...\n",
    "* If a variable represent a constant it should be written in uppercase (`MAX_CUSTOMERS`)\n",
    "* If a variable is formed by words, use underscore to separate the words (`user_address_line_1`)\n",
    "* A variable beginning with an underscore is considered to for internal use (by other programmers) (`_pagecounter`)\n",
    "* Only class names should be written in camelcase (`AdminUserAccount`)\n",
    "* Special system variables are written with two underscores at each end (`__filename__`)"
   ]
  },
  {
   "cell_type": "markdown",
   "id": "7cb517a3-75a4-4632-9820-a12f5d54cfa9",
   "metadata": {
    "editable": true,
    "slideshow": {
     "slide_type": "slide"
    },
    "tags": []
   },
   "source": [
    "## Dot Notation\n",
    "\n",
    "* A variable may be bound (connected) to an object that has attributes like functions or variables\n",
    "* To access those a dot (`.`) is used to separate the variable from the attribute\n",
    "* It can be functions in a module (`y = math.sin(r)`)\n",
    "* It can be an object that has operations (methods) to work with the object (`namelist.sort()`)\n",
    "* After a dot the name used is always in a different namespace"
   ]
  },
  {
   "cell_type": "code",
   "execution_count": 21,
   "id": "c127922b-f49f-4d9d-b32f-104fb3fdb515",
   "metadata": {
    "tags": []
   },
   "outputs": [
    {
     "name": "stdout",
     "output_type": "stream",
     "text": [
      "0.49999999999999994\n",
      "['Alice', 'Beatrice', 'Charlie', 'Dorothy', 'Eric', 'Fred']\n"
     ]
    }
   ],
   "source": [
    "import math\n",
    "y = math.sin(math.pi/6)\n",
    "print(y)\n",
    "namelist = [\"Fred\", \"Alice\", \"Dorothy\", \"Eric\", \"Charlie\", \"Beatrice\"]\n",
    "namelist.sort()\n",
    "print(namelist)"
   ]
  },
  {
   "cell_type": "markdown",
   "id": "6c041a34-9189-48e4-9889-6a312ca6a410",
   "metadata": {
    "editable": true,
    "slideshow": {
     "slide_type": "slide"
    },
    "tags": []
   },
   "source": [
    "## Use as parameters\n",
    "\n",
    "* When passing a variable to a function as a parameter the object is \"passed by reference\"\n",
    "* This means that the function may change the object\n",
    "* The same applies when a variable is assigned another variable"
   ]
  },
  {
   "cell_type": "code",
   "execution_count": 22,
   "id": "255bd29c-ed4c-45b4-870c-3f7e10194d26",
   "metadata": {
    "tags": []
   },
   "outputs": [
    {
     "name": "stdout",
     "output_type": "stream",
     "text": [
      "[1, 5, 3, 4]\n",
      "[1, 5, 3, 4, 7]\n"
     ]
    }
   ],
   "source": [
    "def set_second_to_five(L):\n",
    "    L[1] = 5\n",
    "mylist = [1, 2, 3, 4]\n",
    "set_second_to_five(mylist)\n",
    "print(mylist)\n",
    "otherlist = mylist\n",
    "otherlist.append(7)\n",
    "print(mylist)"
   ]
  },
  {
   "cell_type": "markdown",
   "id": "656ca5e0-5481-4b3d-b236-da1b38c89873",
   "metadata": {
    "editable": true,
    "slideshow": {
     "slide_type": "slide"
    },
    "tags": []
   },
   "source": [
    "## Lab 2.8\n",
    "\n",
    "What happens if you assign a variable by the name `print`?"
   ]
  },
  {
   "cell_type": "code",
   "execution_count": 23,
   "id": "627d3b51-1a24-4a82-96b4-b4aa848d8db6",
   "metadata": {
    "editable": true,
    "slideshow": {
     "slide_type": ""
    },
    "tags": []
   },
   "outputs": [],
   "source": [
    "# print = 5\n",
    "# print(print)"
   ]
  },
  {
   "cell_type": "markdown",
   "id": "165099fb-a6a2-43a7-87b6-f951a8f6fb63",
   "metadata": {
    "editable": true,
    "slideshow": {
     "slide_type": "slide"
    },
    "tags": []
   },
   "source": [
    "# Input and Output\n",
    "\n",
    "* Output with print\n",
    "* Read from user with input\n",
    "* File input/output"
   ]
  },
  {
   "cell_type": "markdown",
   "id": "3b62aa83-b0e8-44a4-b506-1b38b73cce20",
   "metadata": {
    "editable": true,
    "slideshow": {
     "slide_type": "slide"
    },
    "tags": []
   },
   "source": [
    "## Output with print\n",
    "\n",
    "* The `print()` function prints all parameters to\n",
    "stdout (the screen)\n",
    "* The output is separated with a space and a newline is placed at the end\n",
    "* If another separator than space is desired, it can be set with `print(..., sep=\", \")`\n",
    "* The newline at the end can also be changed with `print(..., end=\". \")`"
   ]
  },
  {
   "cell_type": "code",
   "execution_count": 24,
   "id": "b586ff7f-4d5c-4339-bfb2-27a3aa872374",
   "metadata": {
    "tags": []
   },
   "outputs": [
    {
     "name": "stdout",
     "output_type": "stream",
     "text": [
      "1 2 3 4 5\n",
      "1, 2, 3, 4, 5\n",
      "1, 2, 3, 4, 5 No more!\n"
     ]
    }
   ],
   "source": [
    "print(1, 2, 3, 4, 5)\n",
    "print(1, 2, 3, 4, 5, sep=\", \")\n",
    "print(1, 2, 3, 4, 5, sep=\", \", end=\" No more!\\n\")"
   ]
  },
  {
   "cell_type": "markdown",
   "id": "b8e3e4eb-50ae-41b6-9c99-cb482b910a3d",
   "metadata": {
    "editable": true,
    "slideshow": {
     "slide_type": "slide"
    },
    "tags": []
   },
   "source": [
    "## Lab 2.9\n",
    "\n",
    "Print out a multiplication table of 10 by 10"
   ]
  },
  {
   "cell_type": "code",
   "execution_count": 25,
   "id": "00932297-fb5f-47f6-8701-509330928b62",
   "metadata": {
    "editable": true,
    "slideshow": {
     "slide_type": ""
    },
    "tags": []
   },
   "outputs": [],
   "source": [
    "# for y in range(1, 11):\n",
    "#     for x in range(1, 11):\n",
    "#         p = x * y\n",
    "#         print p with a format literal with three cells and suppress the newline\n",
    "#     print()"
   ]
  },
  {
   "cell_type": "markdown",
   "id": "8c78d7d8-bfdb-4281-b9bf-9dee47a823e8",
   "metadata": {
    "editable": true,
    "slideshow": {
     "slide_type": "slide"
    },
    "tags": []
   },
   "source": [
    "## Read from user with input\n",
    "\n",
    "* When a user enters data on `input()` the returned is always a string.\n",
    "* If the user is supposed to enter a number (`float` or `int`) it must be typecasted\n",
    "* The user may accidentally have entered a number as an invalid sequence of characters\n",
    "* It is therefore advisable to surround it with a `try`-block"
   ]
  },
  {
   "cell_type": "code",
   "execution_count": 26,
   "id": "e2252475-7e21-4712-bcbd-452e88401335",
   "metadata": {
    "editable": true,
    "slideshow": {
     "slide_type": ""
    },
    "tags": []
   },
   "outputs": [
    {
     "name": "stdin",
     "output_type": "stream",
     "text": [
      "Enter a number:  3x4\n"
     ]
    },
    {
     "name": "stdout",
     "output_type": "stream",
     "text": [
      "The number is invalid\n"
     ]
    }
   ],
   "source": [
    "answer = input(\"Enter a number: \")\n",
    "try:\n",
    "    number = float(answer)\n",
    "except ValueError:\n",
    "    print(\"The number is invalid\")\n",
    "else:\n",
    "    print(\"The number is:\", number)"
   ]
  },
  {
   "cell_type": "markdown",
   "id": "f0947ad4-4732-49c9-a5b2-43055a1d948d",
   "metadata": {
    "editable": true,
    "slideshow": {
     "slide_type": "slide"
    },
    "tags": []
   },
   "source": [
    "## File open and close\n",
    "\n",
    "* It is easy to open files in Python with `f = open(filename, \"w\", encoding=\"utf-8\")`\n",
    "* The `filename` can be a local name or a full path (remember to put `\\\\` as backslash!)\n",
    "* The modus can be\n",
    "  * `w` for writing\n",
    "  * `r` for reading, or \n",
    "  * `a` for appending (writing) at the end of the file, if the file already exists\n",
    "* The `encoding` is for setting the character encoding (`\"utf-8\"` is most likely the right choice)\n",
    "* When the file operation is over, the file must be closed with `f.close()`"
   ]
  },
  {
   "cell_type": "code",
   "execution_count": 27,
   "id": "a107f721-710b-42e4-bb98-0cd85f6a8629",
   "metadata": {
    "tags": []
   },
   "outputs": [],
   "source": [
    "f = open(\"report.txt\", \"w\", encoding=\"utf-8\")\n",
    "...\n",
    "f.close()"
   ]
  },
  {
   "cell_type": "markdown",
   "id": "20570c18-6ca5-42fd-8c7d-08856da42592",
   "metadata": {
    "editable": true,
    "slideshow": {
     "slide_type": "slide"
    },
    "tags": []
   },
   "source": [
    "## Writing to a file\n",
    "\n",
    "* A file can be written to by either `f.write()` or `print(..., file=f)`\n",
    "* `f.write()` can only take one parameter, and it must be a string\n",
    "* We have already seen `print()`, and `print(..., file=f)` works the same just writing to a file"
   ]
  },
  {
   "cell_type": "code",
   "execution_count": 28,
   "id": "a1c9b7b6-5541-4a41-a0ff-228fcc2022ab",
   "metadata": {
    "tags": []
   },
   "outputs": [],
   "source": [
    "f = open(\"report.txt\", \"w\", encoding=\"utf-8\")\n",
    "print(\"Annual report of sales:\", file=f)\n",
    "print(\"Apples: $120\", file=f)\n",
    "print(\"Oranges: $170\", file=f)\n",
    "print(\"Bananas: $110\", file=f)\n",
    "f.close()"
   ]
  },
  {
   "cell_type": "markdown",
   "id": "efeb53fd-6be7-4036-ae13-0ac1b2f7c79c",
   "metadata": {
    "editable": true,
    "slideshow": {
     "slide_type": "slide"
    },
    "tags": []
   },
   "source": [
    "## Reading from a file\n",
    "\n",
    "* In reading from a file we also have (at least) two options: `text = f.read()` and reading in a loop\n",
    "* `text = f.read()` reads the whole content into the variable `text`\n",
    "* The loop way reads one line at a time\n",
    "* The lines have a newline that easily can be removed with `str.rstrip()`"
   ]
  },
  {
   "cell_type": "code",
   "execution_count": 29,
   "id": "e0a8a879-7965-41f6-9e71-38264da3f28e",
   "metadata": {
    "tags": []
   },
   "outputs": [
    {
     "name": "stdout",
     "output_type": "stream",
     "text": [
      "Annual report of sales:\n",
      "Apples: $120\n",
      "Oranges: $170\n",
      "Bananas: $110\n"
     ]
    }
   ],
   "source": [
    "f = open(\"report.txt\", \"r\", encoding=\"utf-8\")\n",
    "for line in f:\n",
    "    line = line.rstrip()\n",
    "    print(line)\n",
    "f.close()"
   ]
  },
  {
   "cell_type": "markdown",
   "id": "f9f46a9b-fa89-4393-976e-cfc59816d383",
   "metadata": {
    "editable": true,
    "slideshow": {
     "slide_type": "slide"
    },
    "tags": []
   },
   "source": [
    "## Lab 2.10\n",
    "\n",
    "* Open a file for writing\n",
    "* Ask repeatedly the user for how many apples he has taken\n",
    "* Write his answer to the file\n",
    "* When the user answers blank close the file\n",
    "* Reopen the file for reading\n",
    "* read all numbers and print the sum"
   ]
  },
  {
   "cell_type": "code",
   "execution_count": 30,
   "id": "b58f62a0-334e-495b-b2ee-b034f013d8d8",
   "metadata": {
    "editable": true,
    "slideshow": {
     "slide_type": ""
    },
    "tags": []
   },
   "outputs": [],
   "source": [
    "# f = open(\"apples.txt\", \"w\", encoding=\"utf-8\")\n",
    "# end = False\n",
    "# while not end:\n",
    "#     ask the user how many apples he has taken and set answer\n",
    "#     if answer is blank (\"\") set end to True\n",
    "#     else cast answer to int and write to file\n",
    "# f.close()\n",
    "# f = open(\"apples.txt\", \"r\", encoding=\"utf-8\")\n",
    "# sum = 0\n",
    "# for line in f:\n",
    "#     rstrip line\n",
    "#     cast line to int and add it to sum\n",
    "# f.close\n",
    "# print(sum)"
   ]
  }
 ],
 "metadata": {
  "kernelspec": {
   "display_name": "Python 3 (ipykernel)",
   "language": "python",
   "name": "python3"
  },
  "language_info": {
   "codemirror_mode": {
    "name": "ipython",
    "version": 3
   },
   "file_extension": ".py",
   "mimetype": "text/x-python",
   "name": "python",
   "nbconvert_exporter": "python",
   "pygments_lexer": "ipython3",
   "version": "3.12.1"
  }
 },
 "nbformat": 4,
 "nbformat_minor": 5
}
