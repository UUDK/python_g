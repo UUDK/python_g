{
 "cells": [
  {
   "cell_type": "markdown",
   "id": "5b455b03-66ed-42d2-a094-f8edffd338d9",
   "metadata": {
    "editable": true,
    "slideshow": {
     "slide_type": ""
    },
    "tags": []
   },
   "source": [
    "## Module 1\n",
    "\n",
    "### What is Python?\n",
    "\n",
    "* History\n",
    "* Philosophy\n",
    "* Python.org vs. Anaconda\n",
    "* Installation\n",
    "\n",
    "### The agenda\n",
    "\n",
    "* Data Types & Operations\n",
    "* Variables\n",
    "* Input and Output\n",
    "* Conditionals\n",
    "* Loops\n",
    "* Lists\n",
    "* Functions"
   ]
  },
  {
   "cell_type": "markdown",
   "id": "b15cc541-29cb-414e-963d-5ca213ca0026",
   "metadata": {
    "editable": true,
    "slideshow": {
     "slide_type": ""
    },
    "tags": []
   },
   "source": [
    "## Module 2\n",
    "\n",
    "### Data Types & Operations\n",
    "\n",
    "* Strings\n",
    "* Integers\n",
    "* Floats\n",
    "* Type & Casting\n",
    "* String Concatenation\n",
    "* Logical Operators (and, or)\n",
    "* Comparison Operators (==, >, <)\n",
    "* Math Operations (+, -, *, /)\n",
    "* Assignment Ops (+=,-=,*=,/= )\n",
    "\n",
    "### Variables\n",
    "\n",
    "* Definition of a Variable\n",
    "* Naming conventions\n",
    "* Dot Notation\n",
    "* Use as parameters\n",
    "\n",
    "### Input and Output\n",
    "\n",
    "* Output (say, print)\n",
    "* Store user input (ask, input)"
   ]
  },
  {
   "cell_type": "markdown",
   "id": "e6d77d0c-1758-4231-8c8e-4fb742e42d40",
   "metadata": {
    "editable": true,
    "slideshow": {
     "slide_type": ""
    },
    "tags": []
   },
   "source": [
    "## Module 3\n",
    "\n",
    "### Python script\n",
    "\n",
    "* Structure of a script\n",
    "* Header lines\n",
    "* Comments\n",
    "* Indention\n",
    "* import\n",
    "\n",
    "### Conditionals\n",
    "\n",
    "* If\n",
    "* Elif\n",
    "* Else\n",
    "* Compound Logic\n",
    "* Nested If Statements\n",
    "\n",
    "### Loops\n",
    "\n",
    "* For loops with range\n",
    "* For loops with list\n",
    "* For loops with incrementation\n",
    "* While loops"
   ]
  },
  {
   "cell_type": "markdown",
   "id": "bb0fd721-2fd0-4e0a-ace9-e0ab92ed5aff",
   "metadata": {
    "editable": true,
    "slideshow": {
     "slide_type": ""
    },
    "tags": []
   },
   "source": [
    "## Module 4\n",
    "\n",
    "### Lists\n",
    "\n",
    "* Append\n",
    "* Remove\n",
    "* Indices\n",
    "* Loop through List\n",
    "* Random Choice\n",
    "\n",
    "### Dictionaries\n",
    "\n",
    "* Create\n",
    "* Add\n",
    "* Look up\n",
    "* Member\n",
    "* Looping\n",
    "* Lists and Dictionaries\n",
    "\n",
    "### Functions\n",
    "\n",
    "* Define a Function\n",
    "* Call a Function\n",
    "* Function Parameters\n",
    "* Return"
   ]
  }
 ],
 "metadata": {
  "kernelspec": {
   "display_name": "Python 3 (ipykernel)",
   "language": "python",
   "name": "python3"
  },
  "language_info": {
   "codemirror_mode": {
    "name": "ipython",
    "version": 3
   },
   "file_extension": ".py",
   "mimetype": "text/x-python",
   "name": "python",
   "nbconvert_exporter": "python",
   "pygments_lexer": "ipython3",
   "version": "3.11.7"
  }
 },
 "nbformat": 4,
 "nbformat_minor": 5
}
