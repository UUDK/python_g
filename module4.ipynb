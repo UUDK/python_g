{
 "cells": [
  {
   "cell_type": "markdown",
   "id": "1843cbaf-a5ab-4da6-9b3e-ffadac61e8d3",
   "metadata": {
    "editable": true,
    "slideshow": {
     "slide_type": "slide"
    },
    "tags": []
   },
   "source": [
    "# Python Foundational class\n",
    "\n",
    "## Module 4"
   ]
  },
  {
   "cell_type": "markdown",
   "id": "75204186-6111-4c07-b571-6e66131839a3",
   "metadata": {
    "editable": true,
    "slideshow": {
     "slide_type": "slide"
    },
    "tags": []
   },
   "source": [
    "# Lists\n",
    "\n",
    "* Indices\n",
    "* Append\n",
    "* Remove\n",
    "* Loop through List\n",
    "* Random Choice"
   ]
  },
  {
   "cell_type": "markdown",
   "id": "fda400ca-b7a3-45c4-b455-e29337ffaedd",
   "metadata": {
    "editable": true,
    "slideshow": {
     "slide_type": "slide"
    },
    "tags": []
   },
   "source": [
    "## Indices\n",
    "\n",
    "* Lists are ordered by indices\n",
    "* Indices starts with 0 and goes up to one less than the length\n",
    "* To get an element at position 3 we write `L[3]`\n",
    "* To get a list of a subset of a list (a slice) we write `L[3:6]`\n",
    "* A slice is alway including the first number and excusive the second number"
   ]
  },
  {
   "cell_type": "code",
   "execution_count": 1,
   "id": "ea21770f-d392-439f-90c7-7b15f23fcb98",
   "metadata": {},
   "outputs": [
    {
     "name": "stdout",
     "output_type": "stream",
     "text": [
      "8\n",
      "[8, 1, 4]\n"
     ]
    }
   ],
   "source": [
    "L = [5, 7, 2, 8, 1, 4, 9, 3, 6]\n",
    "print(L[3])\n",
    "print(L[3:6])"
   ]
  },
  {
   "cell_type": "markdown",
   "id": "54562d51-4385-4429-9244-703b88106406",
   "metadata": {
    "editable": true,
    "slideshow": {
     "slide_type": "slide"
    },
    "tags": []
   },
   "source": [
    "## Labs 4.1\n",
    "\n",
    "Write a function that returns the index of the highest value in a list"
   ]
  },
  {
   "cell_type": "code",
   "execution_count": 2,
   "id": "92473b5d-4b7c-4322-a269-967da3976d01",
   "metadata": {
    "editable": true,
    "slideshow": {
     "slide_type": ""
    },
    "tags": []
   },
   "outputs": [],
   "source": [
    "# def highest_index(L):\n",
    "#     max = None\n",
    "#     max_i = None\n",
    "#     for i, n in enumerate(L):\n",
    "#         If n is the first or is higher than the existing highest\n",
    "#             Update max\n",
    "#             Update max_i\n",
    "#     return max_i\n",
    "\n",
    "# print(highest_index([7, 16, 21, 11, 19, 24, 20, 8, 17]))"
   ]
  },
  {
   "cell_type": "markdown",
   "id": "de636965-4f61-472d-ad8c-17df7a1cbb78",
   "metadata": {
    "editable": true,
    "slideshow": {
     "slide_type": "slide"
    },
    "tags": []
   },
   "source": [
    "## Append\n",
    "\n",
    "There are three ways to add elements to a list:\n",
    "* `L.append(4)` will add a single element to the end of the list\n",
    "* `L.extend([5, 6, 7])` will add all element from the argument list to the list\n",
    "* `L.insert(pos, 2)` will add an element at the position of `pos`"
   ]
  },
  {
   "cell_type": "code",
   "execution_count": 3,
   "id": "13185d71-34ec-4716-977b-70cee0156b3b",
   "metadata": {},
   "outputs": [
    {
     "name": "stdout",
     "output_type": "stream",
     "text": [
      "[1, 3, 4]\n",
      "[1, 3, 4, 5, 6, 7]\n",
      "[1, 2, 3, 4, 5, 6, 7]\n"
     ]
    }
   ],
   "source": [
    "L = [1, 3]\n",
    "L.append(4)\n",
    "print(L)\n",
    "L.extend([5, 6, 7])\n",
    "print(L)\n",
    "L.insert(1, 2)\n",
    "print(L)"
   ]
  },
  {
   "cell_type": "markdown",
   "id": "444233da-03db-4a90-85fc-a6fd2e42292b",
   "metadata": {
    "editable": true,
    "slideshow": {
     "slide_type": "slide"
    },
    "tags": []
   },
   "source": [
    "## Labs 4.2\n",
    "\n",
    "Insert all element from L2 into L, but only once"
   ]
  },
  {
   "cell_type": "code",
   "execution_count": 4,
   "id": "c47885d5-45ef-4f42-9dd7-cd7ba1dd5540",
   "metadata": {
    "editable": true,
    "slideshow": {
     "slide_type": ""
    },
    "tags": []
   },
   "outputs": [],
   "source": [
    "L = []\n",
    "l2 = [1, 2, 1, 4, 3, 3, 2, 7]\n",
    "# for all elements in L2\n",
    "# if element is not in L\n",
    "# append element to L"
   ]
  },
  {
   "cell_type": "markdown",
   "id": "28732b27-6cd6-487a-b5cb-852c8f5d18fe",
   "metadata": {
    "editable": true,
    "slideshow": {
     "slide_type": "slide"
    },
    "tags": []
   },
   "source": [
    "## Remove\n",
    "\n",
    "There are three ways to remove an element from a list:\n",
    "* With `del L[pos]` we can remove the element at the position of `pos`\n",
    "* With `L.remove(e)` we can remove an element equal to `e`\n",
    "* With `x = L.pop()` we can take out the last element and assign to `x`"
   ]
  },
  {
   "cell_type": "code",
   "execution_count": 5,
   "id": "b55c6700-1601-44e3-a0fe-e91fe626d0e7",
   "metadata": {
    "editable": true,
    "slideshow": {
     "slide_type": ""
    },
    "tags": []
   },
   "outputs": [
    {
     "name": "stdout",
     "output_type": "stream",
     "text": [
      "[5, 4, 0, 2, 3, 2, 7]\n",
      "[5, 4, 0, 3, 2, 7]\n",
      "7 [5, 4, 0, 3, 2]\n"
     ]
    }
   ],
   "source": [
    "L = [5, 4, 7, 0, 2, 3, 2, 7]\n",
    "del L[2]\n",
    "print(L)\n",
    "L.remove(2)\n",
    "print(L)\n",
    "x = L.pop()\n",
    "print(x, L)"
   ]
  },
  {
   "cell_type": "markdown",
   "id": "2e9f6c4d-828b-4ba3-b032-8411a7602255",
   "metadata": {
    "editable": true,
    "slideshow": {
     "slide_type": "slide"
    },
    "tags": []
   },
   "source": [
    "## Labs 4.3\n",
    "\n",
    "Remove all instances of 7 in the list"
   ]
  },
  {
   "cell_type": "code",
   "execution_count": 6,
   "id": "0348be51-6910-4f81-b191-bcba3935409c",
   "metadata": {
    "editable": true,
    "slideshow": {
     "slide_type": ""
    },
    "tags": []
   },
   "outputs": [],
   "source": [
    "L = [4, 2, 7, 3, 7, 7, 5, 1, 7, 8]\n",
    "# while 7 in L\n",
    "# remove 7 from L"
   ]
  },
  {
   "cell_type": "markdown",
   "id": "d869667f-4e52-4534-b3bc-3c8385b3db47",
   "metadata": {
    "editable": true,
    "slideshow": {
     "slide_type": "slide"
    },
    "tags": []
   },
   "source": [
    "## Loop through List\n",
    "\n",
    "* The most common way to run (iterate) through a list is using a simple `for` / `in` loop.\n",
    "* Don't change a list while looping through it! Create a new list with changes"
   ]
  },
  {
   "cell_type": "code",
   "execution_count": 7,
   "id": "6a1cf7b4-4fcc-4e63-946c-8ca397fd65ac",
   "metadata": {},
   "outputs": [
    {
     "name": "stdout",
     "output_type": "stream",
     "text": [
      "[2, 8, 4, 9, 3, 6]\n"
     ]
    }
   ],
   "source": [
    "L = [5, 7, 2, 8, 1, 4, 9, 3, 6]\n",
    "L2 = []\n",
    "for x in L:\n",
    "    if x % 2 == 0 or x % 3 == 0:\n",
    "        L2.append(x)\n",
    "print(L2)"
   ]
  },
  {
   "cell_type": "markdown",
   "id": "c3623075-f709-4929-a5a4-05dd88bec2db",
   "metadata": {
    "editable": true,
    "slideshow": {
     "slide_type": "slide"
    },
    "tags": []
   },
   "source": [
    "## Labs 4.4\n",
    "\n",
    "A sorting algorithm called *insertion* *sort* works this way:\n",
    "* Have the unsorted values in a list and create a new empty list for the sorted values\n",
    "* Take first value and insert immediately before the first element greater than the value (or last if it is the largest)\n",
    "* When the unsorted list is empty the values has been sorted"
   ]
  },
  {
   "cell_type": "code",
   "execution_count": 8,
   "id": "911811cf-c49e-4d5c-8f32-99b00723a387",
   "metadata": {
    "editable": true,
    "slideshow": {
     "slide_type": ""
    },
    "tags": []
   },
   "outputs": [],
   "source": [
    "# def insertion_sort(L):\n",
    "#     L2 = []\n",
    "#     while L:\n",
    "#         Take out one element e from L\n",
    "#         for i, e in enumerate(L2):\n",
    "#             if e > v:\n",
    "#                 Insert v at position i\n",
    "#                 break\n",
    "#         else:\n",
    "#             Append e to L2\n",
    "#     return L2\n",
    "\n",
    "# L = [5, 3, 6, 8, 2, 4, 9, 1, 7]\n",
    "# print(insertion_sort(L))"
   ]
  },
  {
   "cell_type": "markdown",
   "id": "fab9e672-a273-4f4a-979b-8c3b94c0761f",
   "metadata": {
    "editable": true,
    "slideshow": {
     "slide_type": "slide"
    },
    "tags": []
   },
   "source": [
    "## Random Choice\n",
    "\n",
    "The `random` module has a function to select a random element from a list"
   ]
  },
  {
   "cell_type": "code",
   "execution_count": 9,
   "id": "ec65eccc-cff8-4cb3-aa77-e42cc389a978",
   "metadata": {},
   "outputs": [
    {
     "name": "stdout",
     "output_type": "stream",
     "text": [
      "Dean\n",
      "Eric\n"
     ]
    }
   ],
   "source": [
    "import random\n",
    "\n",
    "names = [\"Allan\", \"Ben\", \"Charlie\", \"Dean\", \"Eric\"]\n",
    "n1 = random.choice(names)\n",
    "print(n1)\n",
    "n2 = random.choice(names)\n",
    "print(n2)"
   ]
  },
  {
   "cell_type": "markdown",
   "id": "8e24ecb4-dce3-4e53-91cd-0ff5172a065a",
   "metadata": {
    "editable": true,
    "slideshow": {
     "slide_type": "slide"
    },
    "tags": []
   },
   "source": [
    "## Labs 4.5\n",
    "\n",
    "In the game \"Mastermind\" one player sets a code of four pins from six colors (red, blue, green, yellow, black, and white). Make a function that returns a list of four random colors"
   ]
  },
  {
   "cell_type": "code",
   "execution_count": 10,
   "id": "9c4e74ed-3f4b-45a6-bf34-ae75621aaf50",
   "metadata": {
    "editable": true,
    "slideshow": {
     "slide_type": ""
    },
    "tags": []
   },
   "outputs": [],
   "source": [
    "colors = [\"red\", \"blue\", \"green\", \"yellow\", \"black\", \"white\"]\n",
    "# def pick_code():\n",
    "# make L an empty list\n",
    "# do four times\n",
    "    # pick a color\n",
    "    # append to L\n",
    "# return L\n",
    "\n",
    "# L = pick_code()\n",
    "# print L"
   ]
  },
  {
   "cell_type": "markdown",
   "id": "4cc040ba-b56a-4516-a30e-8b86cbbfd0b7",
   "metadata": {
    "editable": true,
    "slideshow": {
     "slide_type": "slide"
    },
    "tags": []
   },
   "source": [
    "# Dictionaries\n",
    "\n",
    "* Create\n",
    "* Add\n",
    "* Look up\n",
    "* Member\n",
    "* Looping\n",
    "* Lists and Dictionaries"
   ]
  },
  {
   "cell_type": "markdown",
   "id": "b2669b27-9b02-4bc2-93d1-5bec3367c784",
   "metadata": {
    "editable": true,
    "slideshow": {
     "slide_type": "slide"
    },
    "tags": []
   },
   "source": [
    "## Create\n",
    "\n",
    "* A dictionary is a set of pairs, a *key* and a *value*, where the key is pointing at (associated with) a value\n",
    "* A key will always be unique and will typically be a string\n",
    "* A value needs not be unique and can be any type and also another dictionary or a list\n",
    "* A dictionary is written in curly braces (`{}`) with key and value is separated by a colon (`:`) and pairs separated by comma (`,`)"
   ]
  },
  {
   "cell_type": "code",
   "execution_count": 11,
   "id": "ec221dcb-15de-4b0f-90cd-6db4745267c9",
   "metadata": {},
   "outputs": [
    {
     "name": "stdout",
     "output_type": "stream",
     "text": [
      "{'Allan': 1.82, 'Ben': 1.78, 'Charlie': 1.85, 'Dean': 1.75, 'Eric': 1.8}\n"
     ]
    }
   ],
   "source": [
    "heights = {\"Allan\": 1.82, \"Ben\": 1.78, \"Charlie\": 1.85, \"Dean\": 1.75, \"Eric\": 1.80}\n",
    "print(heights)"
   ]
  },
  {
   "cell_type": "markdown",
   "id": "1b4784aa-30db-4b7e-8caf-e4d5e73a23fc",
   "metadata": {
    "editable": true,
    "slideshow": {
     "slide_type": "slide"
    },
    "tags": []
   },
   "source": [
    "## Add\n",
    "\n",
    "* New pairs can be added by just assigning a value to a (new) key\n",
    "* If a key is identical to an existing key then the key is associated with the new value"
   ]
  },
  {
   "cell_type": "code",
   "execution_count": 12,
   "id": "cdcbde0f-21b6-45e5-837d-39e0574da123",
   "metadata": {},
   "outputs": [
    {
     "name": "stdout",
     "output_type": "stream",
     "text": [
      "{'Allan': 1.83, 'Ben': 1.78, 'Charlie': 1.85, 'Dean': 1.75, 'Eric': 1.8, 'Fred': 1.81}\n"
     ]
    }
   ],
   "source": [
    "heights = {\"Allan\": 1.82, \"Ben\": 1.78, \"Charlie\": 1.85, \"Dean\": 1.75, \"Eric\": 1.80}\n",
    "heights[\"Fred\"] = 1.81\n",
    "heights[\"Allan\"] = 1.83\n",
    "print(heights)"
   ]
  },
  {
   "cell_type": "markdown",
   "id": "92a397a1-d11c-4368-bcb8-bcb9a491fffc",
   "metadata": {
    "editable": true,
    "slideshow": {
     "slide_type": "slide"
    },
    "tags": []
   },
   "source": [
    "## Labs 4.6\n",
    "\n",
    "Make a dictionary of color codes so: black=0, brown=1, red=2, orange=3, yellow=4, green=5, blue=6, purple=7, gray=8, and white=9 "
   ]
  },
  {
   "cell_type": "code",
   "execution_count": 13,
   "id": "fe5842f3-b267-4fe3-a054-c2c1bd198d7b",
   "metadata": {
    "editable": true,
    "slideshow": {
     "slide_type": ""
    },
    "tags": []
   },
   "outputs": [],
   "source": [
    "# color_code = { ... }\n",
    "# print the color_code dictionary"
   ]
  },
  {
   "cell_type": "markdown",
   "id": "6457bb7f-3469-4097-abff-733fd48e43bf",
   "metadata": {
    "editable": true,
    "slideshow": {
     "slide_type": "slide"
    },
    "tags": []
   },
   "source": [
    "## Look up\n",
    "\n",
    "* To look up a value we can use the format `D[key]`\n",
    "* This will give an error (`LookUpError`) if the key isn't present in the dictionary\n",
    "* Instead we can use `D.get(key, default)` to get a default value in case the key is not in the dictionary"
   ]
  },
  {
   "cell_type": "code",
   "execution_count": 14,
   "id": "7f5a56b5-bf54-4700-b69a-d6308dcb4cbd",
   "metadata": {},
   "outputs": [
    {
     "name": "stdout",
     "output_type": "stream",
     "text": [
      "1.82\n",
      "-1.0\n"
     ]
    }
   ],
   "source": [
    "heights = {\"Allan\": 1.82, \"Ben\": 1.78, \"Charlie\": 1.85, \"Dean\": 1.75, \"Eric\": 1.80}\n",
    "print(heights[\"Allan\"])\n",
    "print(heights.get(\"Zacharias\", -1.0))"
   ]
  },
  {
   "cell_type": "markdown",
   "id": "312ba234-9f37-4b8b-bcab-ba61ab84bab5",
   "metadata": {
    "editable": true,
    "slideshow": {
     "slide_type": "slide"
    },
    "tags": []
   },
   "source": [
    "## Member\n",
    "\n",
    "* The `k in D` operator will be true, if `k` is a key in the dictionary `D`\n",
    "* This can be used in an `if` or a `while` construct"
   ]
  },
  {
   "cell_type": "code",
   "execution_count": 15,
   "id": "69591cb5-1b16-4c3d-a154-4d5d6294ba9d",
   "metadata": {},
   "outputs": [
    {
     "name": "stdout",
     "output_type": "stream",
     "text": [
      "We have records of Allan's height\n"
     ]
    }
   ],
   "source": [
    "heights = {\"Allan\": 1.82, \"Ben\": 1.78, \"Charlie\": 1.85, \"Dean\": 1.75, \"Eric\": 1.80}\n",
    "if \"Allan\" in heights:\n",
    "    print(\"We have records of Allan's height\")"
   ]
  },
  {
   "cell_type": "markdown",
   "id": "5d093767-36e1-43ac-bb7b-7e47d8fc566f",
   "metadata": {
    "editable": true,
    "slideshow": {
     "slide_type": "slide"
    },
    "tags": []
   },
   "source": [
    "## Labs 4.7\n",
    "\n",
    "On resistors used in electronics are (at least) three color coded rings to tell the resistance in Ohm so the first two rings are digits and the third ring is the number of zeros after. E.g. \"yellow\"/\"purple\"/\"orange\" is \"4\"/\"7\"/\"3\" which gives the resistance value of 47000 or 47 k Ohm.\n",
    "\n",
    "Create a function that takes a list of three colors and returns an integer of the resistance the colors denotes."
   ]
  },
  {
   "cell_type": "code",
   "execution_count": 16,
   "id": "c6dd797d-787d-4748-aa2b-fde7aceb4303",
   "metadata": {
    "editable": true,
    "slideshow": {
     "slide_type": ""
    },
    "tags": []
   },
   "outputs": [],
   "source": [
    "# color_code = { ... }\n",
    "\n",
    "# def colors_ohm(L):\n",
    "# ohm is (first color * 10 + second color) * 10 to the power of third color\n",
    "# return ohm\n",
    "\n",
    "# print(colors_ohm([\"gray\", \"red\", \"green\"]))"
   ]
  },
  {
   "cell_type": "markdown",
   "id": "b9387fb6-df18-4cf7-b5e2-5bf7d6ad3af3",
   "metadata": {
    "editable": true,
    "slideshow": {
     "slide_type": "slide"
    },
    "tags": []
   },
   "source": [
    "## Looping\n",
    "\n",
    "* To iterate through all pairs in a dictionary, the best way is by using `D.items()`:"
   ]
  },
  {
   "cell_type": "code",
   "execution_count": 17,
   "id": "ef44ca7e-c43b-4358-b322-cdd219a1dce1",
   "metadata": {
    "editable": true,
    "slideshow": {
     "slide_type": ""
    },
    "tags": []
   },
   "outputs": [
    {
     "name": "stdout",
     "output_type": "stream",
     "text": [
      "The person Allan   is  1.82 meters high\n",
      "The person Ben     is  1.78 meters high\n",
      "The person Charlie is  1.85 meters high\n",
      "The person Dean    is  1.75 meters high\n",
      "The person Eric    is  1.80 meters high\n"
     ]
    }
   ],
   "source": [
    "heights = {\"Allan\": 1.82, \"Ben\": 1.78, \"Charlie\": 1.85, \"Dean\": 1.75, \"Eric\": 1.80}\n",
    "for k, v in heights.items():\n",
    "    print(f\"The person {k:7} is {v:5.2f} meters high\")"
   ]
  },
  {
   "cell_type": "markdown",
   "id": "85d94628-a117-46e1-8660-5bb8bf83663d",
   "metadata": {
    "editable": true,
    "slideshow": {
     "slide_type": "slide"
    },
    "tags": []
   },
   "source": [
    "## Labs 4.8\n",
    "\n",
    "Loop through `heights` to find the highest person."
   ]
  },
  {
   "cell_type": "code",
   "execution_count": 18,
   "id": "20c6113d-1392-4fc9-8b0f-a362be31d73f",
   "metadata": {
    "editable": true,
    "slideshow": {
     "slide_type": ""
    },
    "tags": []
   },
   "outputs": [],
   "source": [
    "heights = {\"Allan\": 1.82, \"Ben\": 1.78, \"Charlie\": 1.85, \"Dean\": 1.75, \"Eric\": 1.80}\n",
    "highest = None\n",
    "# for all persons in heights:\n",
    "    # if this person is higher that current highest:\n",
    "        # update highest\n",
    "# print highest person's name and height"
   ]
  },
  {
   "cell_type": "markdown",
   "id": "fc4df403-d42c-4310-97fa-b2dc2c0f14d3",
   "metadata": {
    "editable": true,
    "slideshow": {
     "slide_type": "slide"
    },
    "tags": []
   },
   "source": [
    "## Lists and Dictionaries\n",
    "\n",
    "* If there is a need for more complex data structures, lists and dictionaries can be combined\n",
    "* Lists of lists\n",
    "* Lists of dictionaries\n",
    "* Dictionaries of lists\n",
    "* Dictionaries of dictionaries"
   ]
  },
  {
   "cell_type": "code",
   "execution_count": 19,
   "id": "bab60fa9-9ae4-4dc4-91d8-ae2794d97468",
   "metadata": {},
   "outputs": [],
   "source": [
    "matrix = [ [1, 2, 3], [4, 5, 6], [7, 8, 9]]\n",
    "persons = [ {\"name\": \"Allan\", \"height\": 1.82}, {\"name\": \"Ben\", \"height\": 1.78} ]\n",
    "allan = {\"name\": \"Allan\", \"height\": 1.82, \"children\": [\"Ann\", \"Bobby\", \"Chuck\", \"Dannie\"] }\n",
    "scores = {\"Allan\": {\"math\": 10, \"physics\": 7}, \"Ben\": {\"math\": 9, \"history\": 8} }"
   ]
  },
  {
   "cell_type": "markdown",
   "id": "7113781d-ff7e-4b13-9aa8-fd3d223dc79b",
   "metadata": {
    "editable": true,
    "slideshow": {
     "slide_type": "slide"
    },
    "tags": []
   },
   "source": [
    "# Functions\n",
    "\n",
    "* Define a Function\n",
    "* Call a Function\n",
    "* Function Parameters\n",
    "* Local namespace"
   ]
  },
  {
   "cell_type": "markdown",
   "id": "60e3b6ae-6cd5-446d-a5ec-66d638d12a50",
   "metadata": {
    "editable": true,
    "slideshow": {
     "slide_type": "slide"
    },
    "tags": []
   },
   "source": [
    "## Define a Function\n",
    "\n",
    "* A function is a block of code to be executed later, one or several times\n",
    "* It's defined by the word `def`, a name, and a list of *parameter*, values to be used in the execution\n",
    "* It is adviced to also add a documentation string in triple quotes\n",
    "* It may or may not return a value"
   ]
  },
  {
   "cell_type": "code",
   "execution_count": 20,
   "id": "cd8f3bd7-3b8f-4bf6-95b3-cb538c45243d",
   "metadata": {
    "editable": true,
    "slideshow": {
     "slide_type": ""
    },
    "tags": []
   },
   "outputs": [],
   "source": [
    "import math\n",
    "def pyth(a, b):\n",
    "    \"\"\"the Pythagorean equation\"\"\"\n",
    "    c = math.sqrt(a**2 + b**2)\n",
    "    return c"
   ]
  },
  {
   "cell_type": "markdown",
   "id": "5ec19263-e9b4-4d2f-a105-1f34933140d2",
   "metadata": {
    "editable": true,
    "slideshow": {
     "slide_type": "slide"
    },
    "tags": []
   },
   "source": [
    "## Labs 4.9\n",
    "\n",
    "Create a \"window function\" which is a function that takes three parameters: a value, a min, and a max. If the value is between min and max then return the value. If the value is smaller than min then return min, or if the value is larger than max then return max."
   ]
  },
  {
   "cell_type": "code",
   "execution_count": 21,
   "id": "895535dc-099d-4172-a0fd-ff523210d7de",
   "metadata": {
    "editable": true,
    "slideshow": {
     "slide_type": ""
    },
    "tags": []
   },
   "outputs": [],
   "source": [
    "# def window(val, min, max):\n",
    "# ...\n",
    "# ...\n",
    "\n",
    "# print(window(3, 0, 10))\n",
    "# print(window(-3, 0, 10))\n",
    "# print(window(13, 0, 10))"
   ]
  },
  {
   "cell_type": "markdown",
   "id": "c4a719ce-48cc-4f44-bd7a-42bdb3c308e5",
   "metadata": {
    "editable": true,
    "slideshow": {
     "slide_type": "slide"
    },
    "tags": []
   },
   "source": [
    "## Call a Function\n",
    "\n",
    "* A function can be called any number of times\n",
    "* The call can be within a larger expression as a value\n",
    "* The values for the parameters are called *arguments* when the function is called"
   ]
  },
  {
   "cell_type": "code",
   "execution_count": 22,
   "id": "387ae6ca-c1a5-4043-b7ca-702a34d6768a",
   "metadata": {
    "editable": true,
    "slideshow": {
     "slide_type": ""
    },
    "tags": []
   },
   "outputs": [
    {
     "name": "stdout",
     "output_type": "stream",
     "text": [
      "35.0\n"
     ]
    }
   ],
   "source": [
    "x = pyth(3, 4) * 7\n",
    "print(x)"
   ]
  },
  {
   "cell_type": "markdown",
   "id": "6dee17c4-5b64-4abe-ae19-96edc2514884",
   "metadata": {
    "editable": true,
    "slideshow": {
     "slide_type": "slide"
    },
    "tags": []
   },
   "source": [
    "## Labs 4.10\n",
    "\n",
    "Create a function that takes two lists and returns the list that has the largest element in it. There is a function called `max()`, can that be used? use `help(max)` to display help text."
   ]
  },
  {
   "cell_type": "code",
   "execution_count": 23,
   "id": "85f78dd4-f3bd-421b-8b3d-4a68ded3c785",
   "metadata": {
    "editable": true,
    "slideshow": {
     "slide_type": ""
    },
    "tags": []
   },
   "outputs": [],
   "source": [
    "# def max_list(L1, L2):\n",
    "# ...\n",
    "# ...\n",
    "\n",
    "# print(max_list([1, 2, 5], [3, 6, 1]))\n",
    "# print(max_list([1, 4, 3], [1, 1, 1]))\n",
    "# print(max_list([1, 2, 4], [4, 8, 2]))"
   ]
  },
  {
   "cell_type": "markdown",
   "id": "8eb395b3-02cd-443d-85e2-7fe22e1f7500",
   "metadata": {
    "editable": true,
    "slideshow": {
     "slide_type": "slide"
    },
    "tags": []
   },
   "source": [
    "## Function Parameters\n",
    "\n",
    "* The parameters may have default values\n",
    "* The parameters may be filled by their position (positional argument) or by their names (keyword argument)"
   ]
  },
  {
   "cell_type": "code",
   "execution_count": 24,
   "id": "f775701c-97f7-4350-b5b3-4d4ce8787422",
   "metadata": {
    "editable": true,
    "slideshow": {
     "slide_type": ""
    },
    "tags": []
   },
   "outputs": [
    {
     "name": "stdout",
     "output_type": "stream",
     "text": [
      "Hello, Mr. Jackson\n",
      "Hello, Ms. Anderson\n",
      "Hi, my friend Allan\n"
     ]
    }
   ],
   "source": [
    "def greet(name, titulation=\"Mr.\", phrase=\"Hello\"):\n",
    "    print(f\"{phrase}, {titulation} {name}\")\n",
    "greet(\"Jackson\")\n",
    "greet(\"Anderson\", \"Ms.\")\n",
    "greet(name=\"Allan\", titulation=\"my friend\", phrase=\"Hi\")"
   ]
  },
  {
   "cell_type": "markdown",
   "id": "c0aa48ce-8cb2-43d6-9253-8067d45b7251",
   "metadata": {
    "editable": true,
    "slideshow": {
     "slide_type": "slide"
    },
    "tags": []
   },
   "source": [
    "## Local namespace\n",
    "\n",
    "* The parameters and variables within the function is separate from other variables\n",
    "* When a variable is assigned inside a function it belongs to another namespace\n",
    "* If a global variable is to be assigned within the function, it must be declared global"
   ]
  },
  {
   "cell_type": "code",
   "execution_count": 25,
   "id": "cb35b197-5216-4520-88a8-8e1102d08498",
   "metadata": {},
   "outputs": [
    {
     "name": "stdout",
     "output_type": "stream",
     "text": [
      "Before call: 5 7 11\n",
      "Inside function: 15 17 21\n",
      "After call: 15 7 11\n"
     ]
    }
   ],
   "source": [
    "def f(c):\n",
    "    global a\n",
    "    a = 15\n",
    "    b = 17\n",
    "    print(\"Inside function:\", a, b, c)\n",
    "a = 5\n",
    "b = 7\n",
    "c = 11\n",
    "print(\"Before call:\", a, b, c)\n",
    "f(21)\n",
    "print(\"After call:\", a, b, c)"
   ]
  },
  {
   "cell_type": "markdown",
   "id": "519bd879-393c-4224-aac3-0c50aed34e5b",
   "metadata": {
    "editable": true,
    "slideshow": {
     "slide_type": "slide"
    },
    "tags": []
   },
   "source": [
    "## Labs 4.11\n",
    "\n",
    "There is a way to find all prime numbers up to a certain limit:\n",
    "* Make a candidate list of all numbers from 2 up to the limit, and a prime list which initially is empty\n",
    "* Take the first number out of the candidate list and add to the prime list\n",
    "* Eliminate all elements in the candidate list that is dividable by that number\n",
    "* Continue to do so with all candidates until the candidate list is empty\n",
    "* The prime list now holds all primes up to the limit"
   ]
  },
  {
   "cell_type": "code",
   "execution_count": 26,
   "id": "41dd63b4-a3f1-4bce-a582-ecb8e64a605d",
   "metadata": {
    "editable": true,
    "slideshow": {
     "slide_type": ""
    },
    "tags": []
   },
   "outputs": [],
   "source": [
    "# def find_primes(limit):\n",
    "    # candidates = list(range(2, limit+1))\n",
    "    # primes = []\n",
    "    # while still candidates left:\n",
    "        # Take out first element from candidates (pop(0))\n",
    "        # Append it to primes\n",
    "        # Make an empty temp list\n",
    "        # for all candidates elements:\n",
    "            # if the element is not dividable by the prime:\n",
    "                # Add the element to the temp list\n",
    "        # Make the temp list the new candidates list\n",
    "    # return primes\n",
    "\n",
    "# print(find_primes(1000))"
   ]
  }
 ],
 "metadata": {
  "kernelspec": {
   "display_name": "Python 3 (ipykernel)",
   "language": "python",
   "name": "python3"
  },
  "language_info": {
   "codemirror_mode": {
    "name": "ipython",
    "version": 3
   },
   "file_extension": ".py",
   "mimetype": "text/x-python",
   "name": "python",
   "nbconvert_exporter": "python",
   "pygments_lexer": "ipython3",
   "version": "3.12.1"
  }
 },
 "nbformat": 4,
 "nbformat_minor": 5
}
