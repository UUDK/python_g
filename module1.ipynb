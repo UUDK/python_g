{
 "cells": [
  {
   "cell_type": "markdown",
   "id": "49ef04a0-948a-40e6-b48a-5eb18a025e84",
   "metadata": {
    "editable": true,
    "slideshow": {
     "slide_type": "slide"
    },
    "tags": []
   },
   "source": [
    "# Python Foundational class\n",
    "\n",
    "## Module 1"
   ]
  },
  {
   "cell_type": "markdown",
   "id": "074f0f05-413f-4c71-88a7-9a15a8614733",
   "metadata": {
    "editable": true,
    "slideshow": {
     "slide_type": "slide"
    },
    "tags": []
   },
   "source": [
    "# What is Python?\n",
    "\n",
    "* History\n",
    "* Philosophy\n",
    "* Python.org vs. Anaconda\n",
    "* Jupyter Lab"
   ]
  },
  {
   "cell_type": "markdown",
   "id": "51d85942-7c0e-4e84-bcdc-5ec57e6c5525",
   "metadata": {
    "editable": true,
    "slideshow": {
     "slide_type": "slide"
    },
    "tags": []
   },
   "source": [
    "## History\n",
    "\n",
    "* First version released in February 1991, as Van Rossum published the code (labeled version 0.9.0) to alt.sources.\n",
    "* First official release, 1.0, in January 1994.\n",
    "* Version 2.0 released in October 2000\n",
    "* Version 2.7 released in June 2009, last release in serie 2, and support ended in January 2020\n",
    "* Version 3.0 released in December 2008, which broke backward compatibility with serie 2\n",
    "* Version 3.12 released in October 2023"
   ]
  },
  {
   "cell_type": "markdown",
   "id": "e0decb15-9735-42fd-ab86-38d3c9229d9c",
   "metadata": {
    "editable": true,
    "slideshow": {
     "slide_type": "slide"
    },
    "tags": []
   },
   "source": [
    "## Philosophy\n",
    "\n",
    "Python is a multi-paradigm programming language:\n",
    "* Object-oriented programming\n",
    "* Structured programming\n",
    "* Functional programming\n",
    "\n",
    "Python is designed around these values:\n",
    "* Beauty\n",
    "* Explicitity\n",
    "* Simplicity when possible\n",
    "* Complex when necessary\n",
    "* Readability\n",
    "\n",
    "A Python programmer always strives to write clear code following\n",
    "the guidelines for better maintainability."
   ]
  },
  {
   "cell_type": "markdown",
   "id": "959fce33-7c76-4245-91c2-60acaa9cc85e",
   "metadata": {
    "editable": true,
    "slideshow": {
     "slide_type": "slide"
    },
    "tags": []
   },
   "source": [
    "## Python.org vs. Anaconda\n",
    "\n",
    "When installing Python there are two common ways to install:\n",
    "* **Python.org** is the official Python compilation and when installing\n",
    "  from Python.org you will get the interpreter, a few small utilities,\n",
    "  and the Standard Libraries.\n",
    "* **Anaconda** is a thirdparty compilation of the interpreter and a\n",
    "  very large number of high-quality packages and tools. It is common\n",
    "  to choose this, since it is less likely to need installing additional\n",
    "  packages."
   ]
  },
  {
   "cell_type": "markdown",
   "id": "5a7181a4-6cce-4387-8fd0-97b158204702",
   "metadata": {
    "editable": true,
    "jp-MarkdownHeadingCollapsed": true,
    "slideshow": {
     "slide_type": "slide"
    },
    "tags": []
   },
   "source": [
    "## Jupyter Lab vs. Python script\n",
    "\n",
    "There may be several ways to execute Python, but we will focus on two ways:\n",
    "* **Jupyter Lab** is an interactive environment, where python snippets are written\n",
    "  in *cells*. A cell is a small section of code that may be executed independently\n",
    "  of the other cells (but is most likely executed from the top. It is also possible\n",
    "  to write prosa text in MarkDown and export to PDF, slides or other formats.\n",
    "* **Python Scripts** Are written in an editor and runned either from within the editor\n",
    "  environment. A script is one body of code that is executed from the top until it\n",
    "  reaches the end (or is interrupted, raises an exception, or delibertly performs a\n",
    "  stop). A script can be started by the user, by the system, or by other programs to\n",
    "  perform a specific task like read a number of files and send an email with a summery."
   ]
  },
  {
   "cell_type": "markdown",
   "id": "f93b79c9-ea2b-4903-97fa-494e662cb73e",
   "metadata": {
    "editable": true,
    "slideshow": {
     "slide_type": "slide"
    },
    "tags": []
   },
   "source": [
    "# The agenda for this course\n",
    "\n",
    "* Data Types & Operations\n",
    "* Variables\n",
    "* Input and Output\n",
    "* Conditionals\n",
    "* Loops\n",
    "* Lists\n",
    "* Functions"
   ]
  },
  {
   "cell_type": "markdown",
   "id": "172e6a94-02f6-4f3c-8c21-81614da598e7",
   "metadata": {
    "editable": true,
    "slideshow": {
     "slide_type": "slide"
    },
    "tags": []
   },
   "source": [
    "## Data Types & Operations\n",
    "\n",
    "Different kinds of data has different types:\n",
    "* Integers (`int`) are whole numbers like 1, 17, -45, and 0\n",
    "* Floating points (`float`) are real numbers like 0.5, 10.001, -3.333, and 0.0\n",
    "* Strings (`string`) are texts like \"Expense report\", \"John Smith\", \"sales\\@corp.com\", and \"\"\n",
    "* Lists (`list`) are ordered collections of data like \\[1, 2, 3], \\[\"Andrew\", \"Ben\", \"Charlie\"], and \\[0.0, 1.7, 5.3, 13.4]\n",
    "* Dictionaries (`dict`) are collections of pairs like {\"name\": \"Allan\", \"age\": 23} and {\"potatoes\": 12.5, \"carrots\": 10.75}\n",
    "* Booleans (`bool`) are truth values and is either True or False\n",
    "* Nones (`NoneType`) are absent data and has only one value, None"
   ]
  },
  {
   "cell_type": "markdown",
   "id": "43c2f2c7-3ec0-46d7-b708-0af7d889c3d5",
   "metadata": {
    "editable": true,
    "slideshow": {
     "slide_type": "slide"
    },
    "tags": []
   },
   "source": [
    "## Lab 1.1\n",
    "\n",
    "Examine these types:"
   ]
  },
  {
   "cell_type": "code",
   "execution_count": 1,
   "id": "b228877e-a28a-42b4-8651-a54289600a4f",
   "metadata": {
    "editable": true,
    "slideshow": {
     "slide_type": ""
    },
    "tags": []
   },
   "outputs": [
    {
     "name": "stdout",
     "output_type": "stream",
     "text": [
      "<class 'int'>\n"
     ]
    }
   ],
   "source": [
    "# 123\n",
    "print(type(123))\n",
    "# 7.5\n",
    "# \"Revenue\"\n",
    "# [2, 3, 5, 7, 11, 13, 17, 19, 23, 29]\n",
    "# False\n",
    "# None"
   ]
  },
  {
   "cell_type": "markdown",
   "id": "52200a48-7ec2-4404-a9ec-0cbe81fde499",
   "metadata": {
    "editable": true,
    "slideshow": {
     "slide_type": "slide"
    },
    "tags": []
   },
   "source": [
    "## Variables\n",
    "\n",
    "* A variable is a temporary place to store information for later use.\n",
    "* A variable name can be any sequence of letters, digits and underscore (but can't begin with a number)\n",
    "* A variable name is case sensitive"
   ]
  },
  {
   "cell_type": "code",
   "execution_count": 2,
   "id": "77e87242-9e43-46a3-a339-62190aeab8e6",
   "metadata": {
    "editable": true,
    "slideshow": {
     "slide_type": ""
    },
    "tags": []
   },
   "outputs": [
    {
     "name": "stdout",
     "output_type": "stream",
     "text": [
      "You will be paid: 16000.0\n"
     ]
    }
   ],
   "source": [
    "income = 20000\n",
    "tax_rate = 20\n",
    "tax = income * (20/100)\n",
    "payout = income - tax\n",
    "print(\"You will be paid:\", payout)"
   ]
  },
  {
   "cell_type": "markdown",
   "id": "6632124c-1dbc-48b1-bf22-c9e0fe76bae6",
   "metadata": {
    "editable": true,
    "slideshow": {
     "slide_type": "slide"
    },
    "tags": []
   },
   "source": [
    "## Lab 1.2\n",
    "\n",
    "Calculate the perimeter of a circle"
   ]
  },
  {
   "cell_type": "code",
   "execution_count": 3,
   "id": "dc9b10f6-6fc3-460c-afad-a4ce60beeb29",
   "metadata": {
    "editable": true,
    "scrolled": true,
    "slideshow": {
     "slide_type": ""
    },
    "tags": []
   },
   "outputs": [],
   "source": [
    "# The diameter is 23.6\n",
    "# Pi is 3.14\n",
    "# perimeter is diameter * pi\n",
    "# print(perimeter)"
   ]
  },
  {
   "cell_type": "markdown",
   "id": "22011675-54b2-4c6c-86bb-f321de415855",
   "metadata": {
    "editable": true,
    "slideshow": {
     "slide_type": "slide"
    },
    "tags": []
   },
   "source": [
    "## Input and Output\n",
    "\n",
    "* `print(\"result is:\", result)` will print text and numbers out to the screen\n",
    "* `input(\"Enter name here: \")` will stop the script/cell and wait for the user to enter text"
   ]
  },
  {
   "cell_type": "code",
   "execution_count": 4,
   "id": "a1a02da2-3552-4b39-9732-d39a4124c77f",
   "metadata": {
    "editable": true,
    "slideshow": {
     "slide_type": ""
    },
    "tags": []
   },
   "outputs": [
    {
     "name": "stdin",
     "output_type": "stream",
     "text": [
      "What is your name:  Ben\n"
     ]
    },
    {
     "name": "stdout",
     "output_type": "stream",
     "text": [
      "I am pleased to meet you Ben\n"
     ]
    }
   ],
   "source": [
    "name = input(\"What is your name: \")\n",
    "print(\"I am pleased to meet you\", name)"
   ]
  },
  {
   "cell_type": "markdown",
   "id": "e9e5dca0-53d3-4a93-b71f-fcb9dc343134",
   "metadata": {
    "editable": true,
    "slideshow": {
     "slide_type": "slide"
    },
    "tags": []
   },
   "source": [
    "## Lab 1.4\n",
    "\n",
    "Ask the user for name and hometown. Print that *user* is from *hometown*"
   ]
  },
  {
   "cell_type": "code",
   "execution_count": 5,
   "id": "78cde9fe-5c40-40ab-825f-8f1e8db11e9c",
   "metadata": {
    "editable": true,
    "scrolled": true,
    "slideshow": {
     "slide_type": ""
    },
    "tags": []
   },
   "outputs": [],
   "source": [
    "# Ask the user for his/her name\n",
    "# Ask the user for his/her hometown\n",
    "# print(name, \"is from\", hometown)"
   ]
  },
  {
   "cell_type": "markdown",
   "id": "766b7238-0347-450b-a76e-a28dcaaf8d0b",
   "metadata": {
    "editable": true,
    "slideshow": {
     "slide_type": "slide"
    },
    "tags": []
   },
   "source": [
    "## Conditionals\n",
    "\n",
    "It is possible to let Python run different parts based on conditions."
   ]
  },
  {
   "cell_type": "code",
   "execution_count": 6,
   "id": "e3eb2178-a259-426c-8fc1-1310e6862eb4",
   "metadata": {
    "editable": true,
    "slideshow": {
     "slide_type": ""
    },
    "tags": []
   },
   "outputs": [
    {
     "name": "stdout",
     "output_type": "stream",
     "text": [
      "You are a child/youth; the fee is 5\n"
     ]
    }
   ],
   "source": [
    "age = 17\n",
    "if age >= 18:\n",
    "    print(\"You are an adult; the fee is 10\")\n",
    "else:\n",
    "    print(\"You are a child/youth; the fee is 5\")"
   ]
  },
  {
   "cell_type": "markdown",
   "id": "0c31cca3-87c5-43d1-b1f2-004628c3214c",
   "metadata": {
    "editable": true,
    "slideshow": {
     "slide_type": ""
    },
    "tags": []
   },
   "source": [
    "If `age` is 18 or more the first `print` is performed, if not it's the second one that is runned."
   ]
  },
  {
   "cell_type": "markdown",
   "id": "54000785-879b-4903-92a2-218a54aed2c5",
   "metadata": {
    "slideshow": {
     "slide_type": "slide"
    },
    "tags": []
   },
   "source": [
    "## Lab 1.5\n",
    "\n",
    "Calculate the final price so 10 percent is subtracted if the total is more than $100"
   ]
  },
  {
   "cell_type": "code",
   "execution_count": 7,
   "id": "99b26ee6-7065-4d52-927c-024939ec571a",
   "metadata": {
    "tags": []
   },
   "outputs": [],
   "source": [
    "total = 93\n",
    "# If total is 100 or more:\n",
    "# Set finalprice to total subtracted 10%\n",
    "# Else:\n",
    "# Set finalprice to total\n",
    "# print finalprice"
   ]
  },
  {
   "cell_type": "markdown",
   "id": "d05bf3e5-5a73-425b-a66a-6896ffbb370c",
   "metadata": {
    "slideshow": {
     "slide_type": "slide"
    },
    "tags": []
   },
   "source": [
    "## Loops\n",
    "\n",
    "There are two kind of loops in Python:\n",
    "* The `for` / `in` -loop which will run through a set of data\n",
    "* The `while` -loop which will run while a condition is true"
   ]
  },
  {
   "cell_type": "code",
   "execution_count": 8,
   "id": "d7dc9d37-1683-4083-bed2-3faf50c19317",
   "metadata": {
    "tags": []
   },
   "outputs": [
    {
     "name": "stdout",
     "output_type": "stream",
     "text": [
      "1, 2, 3, 4, 5, 6, 7, 8, 9, 10, \n",
      "1, 2, 3, 4, 5, 6, 7, 8, 9, 10, "
     ]
    }
   ],
   "source": [
    "for x in range(1, 10+1):\n",
    "    print(x, end=\", \")\n",
    "print()\n",
    "y = 1\n",
    "while y < 10+1:\n",
    "    print(y, end=\", \")\n",
    "    y = y + 1"
   ]
  },
  {
   "cell_type": "markdown",
   "id": "c2f08fdd-cfbf-42ec-8f39-b695533622fe",
   "metadata": {
    "slideshow": {
     "slide_type": "slide"
    },
    "tags": []
   },
   "source": [
    "## Lab 1.6\n",
    "\n",
    "Given a bank account with 20 dollars and 6% interest, how many years will it take for the deposit to reach 100 dollars?"
   ]
  },
  {
   "cell_type": "code",
   "execution_count": 9,
   "id": "dbb26aaf-80bc-4848-810d-63db7b089cc5",
   "metadata": {
    "tags": []
   },
   "outputs": [],
   "source": [
    "deposit = 20\n",
    "year = 1\n",
    "# while deposit is less than 100:\n",
    "# increase deposit with 6% interest (multiply with 1.06)\n",
    "# increase year with 1\n",
    "# When done print deposit and year"
   ]
  },
  {
   "cell_type": "markdown",
   "id": "ffe7e678-31cd-473a-a07d-28a174c8a342",
   "metadata": {
    "editable": true,
    "slideshow": {
     "slide_type": "slide"
    },
    "tags": []
   },
   "source": [
    "## Lists\n",
    "\n",
    "A list is a way to represent more than one piece of information."
   ]
  },
  {
   "cell_type": "code",
   "execution_count": 10,
   "id": "b7ac6eb0-0c87-4dae-9378-c2e618712dc5",
   "metadata": {
    "editable": true,
    "slideshow": {
     "slide_type": ""
    },
    "tags": []
   },
   "outputs": [
    {
     "name": "stdout",
     "output_type": "stream",
     "text": [
      "This is Allan\n",
      "This is Ben\n",
      "This is Charlie\n",
      "This is Dean\n",
      "This is Eric\n"
     ]
    }
   ],
   "source": [
    "names = [\"Allan\", \"Ben\", \"Charlie\", \"Dean\", \"Eric\"]\n",
    "for name in names:\n",
    "    print(\"This is\", name)"
   ]
  },
  {
   "cell_type": "markdown",
   "id": "08711d1c-2943-4afc-bb8f-33f0805a8502",
   "metadata": {
    "slideshow": {
     "slide_type": "slide"
    },
    "tags": []
   },
   "source": [
    "## Lab 1.7\n",
    "\n",
    "Print all numbers greater than 10"
   ]
  },
  {
   "cell_type": "code",
   "execution_count": 11,
   "id": "3d8735f2-3de7-4856-9cda-4ae3b1dc3fa1",
   "metadata": {
    "tags": []
   },
   "outputs": [],
   "source": [
    "numbers = [3, 15, 4, 8, 17, 11, 2, 14, 9, 10]\n",
    "# For each n in numbers:\n",
    "# If n is greater than 10:\n",
    "# print n"
   ]
  },
  {
   "cell_type": "markdown",
   "id": "052f80be-17f8-4f06-a0fb-1c65385a2c74",
   "metadata": {
    "editable": true,
    "slideshow": {
     "slide_type": "slide"
    },
    "tags": []
   },
   "source": [
    "## Functions\n",
    "\n",
    "Functions are operations that can be runned again and again.\n",
    "* First we define the function\n",
    "* Then we can call the function any time we need that operation\n",
    "* A function can receive information as parametres/arguments and return the result"
   ]
  },
  {
   "cell_type": "code",
   "execution_count": 12,
   "id": "b58cc034-a37d-41f0-b3de-10c5d9f55433",
   "metadata": {
    "editable": true,
    "tags": []
   },
   "outputs": [
    {
     "name": "stdout",
     "output_type": "stream",
     "text": [
      "Your total is: 44.1\n"
     ]
    }
   ],
   "source": [
    "def discount_percent(price, percent):\n",
    "    new_price = price - (price * percent / 100)\n",
    "    return new_price\n",
    "total = 49\n",
    "total_with_discount = discount_percent(total, 10)\n",
    "print(\"Your total is:\", total_with_discount)"
   ]
  },
  {
   "cell_type": "markdown",
   "id": "931a4e2e-0a07-417a-b011-823c1c9ba884",
   "metadata": {
    "slideshow": {
     "slide_type": "slide"
    },
    "tags": []
   },
   "source": [
    "## Lab 1.8\n",
    "\n",
    "Create a function, that returns the highest of two numbers"
   ]
  },
  {
   "cell_type": "code",
   "execution_count": 13,
   "id": "10fa6818-959c-4c32-b36a-b602ddf91af7",
   "metadata": {
    "editable": true,
    "slideshow": {
     "slide_type": ""
    },
    "tags": []
   },
   "outputs": [],
   "source": [
    "# def highest(a, b):\n",
    "# If a is greater than b:\n",
    "# return a\n",
    "# Else:\n",
    "# Return b\n",
    "\n",
    "# print(\"The highest of 23 and 41 is:\", highest(23, 41))"
   ]
  }
 ],
 "metadata": {
  "kernelspec": {
   "display_name": "Python 3 (ipykernel)",
   "language": "python",
   "name": "python3"
  },
  "language_info": {
   "codemirror_mode": {
    "name": "ipython",
    "version": 3
   },
   "file_extension": ".py",
   "mimetype": "text/x-python",
   "name": "python",
   "nbconvert_exporter": "python",
   "pygments_lexer": "ipython3",
   "version": "3.12.1"
  }
 },
 "nbformat": 4,
 "nbformat_minor": 5
}
